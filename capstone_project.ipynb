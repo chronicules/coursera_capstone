{
 "cells": [
  {
   "cell_type": "markdown",
   "metadata": {},
   "source": [
    "# Predicting the Severity of Road Traffic Accidents"
   ]
  },
  {
   "cell_type": "markdown",
   "metadata": {},
   "source": [
    "https://www.kaggle.com/miguelniblock/optimizing-imbalanced-classification-100-recall"
   ]
  },
  {
   "cell_type": "markdown",
   "metadata": {},
   "source": [
    "## Table of contents\n",
    "* [Introduction: Problem](#introduction)\n",
    "* [Data](#data)\n",
    "* [Methodology](#methodology)\n",
    "* [Analysis](#analysis)\n",
    "* [Results and Discussion](#results)\n",
    "* [Conclusion](#conclusion)"
   ]
  },
  {
   "cell_type": "markdown",
   "metadata": {},
   "source": [
    "## Introduction: Problem"
   ]
  },
  {
   "cell_type": "markdown",
   "metadata": {},
   "source": [
    "Traffic accidents are a significant source of deaths, injuries, property damage, and a major concern for public health and traffic safety. Accidents are also a major cause of traffic congestion and delay. Effective management of accident is crucial to mitigating accident impacts and improving traffic safety and transportation system efficiency. Accurate predictions of severity can provide crucial information for emergency responders to **evaluate the severity level of accidents, locate accident blackspots, estimate the potential impacts, and implement efficient accident management procedures**.\n",
    "\n",
    "Model can be applied to predictions of accident severity which is an essential step in accident management process. By recognizing those key influences, this report can provide suggestive results for **government and local authorities** to take effective measures to reduce accident impacts and improve traffic safety."
   ]
  },
  {
   "cell_type": "markdown",
   "metadata": {},
   "source": [
    "## Data\n",
    "\n",
    "Dataset includes detailed information about collisions provided by Seattle Police Department and recorded by Traffic Records.\n",
    "\n",
    "Based on definition of our problem, factors that will be taken into consideration for our predictions are:\n",
    "* location of the collision to look out black spots\n",
    "* weather, light and road conditions\n",
    "* speeding, driving under influence and inattentive driving \n",
    "* address and junction type\n",
    "* number of persons, pedestrians, bicycles and vehicles involved into incident\n",
    "* some other"
   ]
  },
  {
   "cell_type": "code",
   "execution_count": 491,
   "metadata": {},
   "outputs": [],
   "source": [
    "import pandas as pd\n",
    "import numpy as np\n",
    "import matplotlib.pyplot as plt\n",
    "import seaborn as sns\n",
    "from sklearn import preprocessing"
   ]
  },
  {
   "cell_type": "markdown",
   "metadata": {},
   "source": [
    "## Loading Data from CSV file"
   ]
  },
  {
   "cell_type": "code",
   "execution_count": 492,
   "metadata": {},
   "outputs": [
    {
     "name": "stderr",
     "output_type": "stream",
     "text": [
      "C:\\Users\\dvasilyev\\AppData\\Local\\Continuum\\anaconda3\\lib\\site-packages\\IPython\\core\\interactiveshell.py:3049: DtypeWarning: Columns (33) have mixed types. Specify dtype option on import or set low_memory=False.\n",
      "  interactivity=interactivity, compiler=compiler, result=result)\n"
     ]
    }
   ],
   "source": [
    "df = pd.read_csv('Data-Collisions.csv')"
   ]
  },
  {
   "cell_type": "code",
   "execution_count": 493,
   "metadata": {},
   "outputs": [
    {
     "data": {
      "text/html": [
       "<div>\n",
       "<style scoped>\n",
       "    .dataframe tbody tr th:only-of-type {\n",
       "        vertical-align: middle;\n",
       "    }\n",
       "\n",
       "    .dataframe tbody tr th {\n",
       "        vertical-align: top;\n",
       "    }\n",
       "\n",
       "    .dataframe thead th {\n",
       "        text-align: right;\n",
       "    }\n",
       "</style>\n",
       "<table border=\"1\" class=\"dataframe\">\n",
       "  <thead>\n",
       "    <tr style=\"text-align: right;\">\n",
       "      <th></th>\n",
       "      <th>SEVERITYCODE</th>\n",
       "      <th>X</th>\n",
       "      <th>Y</th>\n",
       "      <th>OBJECTID</th>\n",
       "      <th>INCKEY</th>\n",
       "      <th>COLDETKEY</th>\n",
       "      <th>REPORTNO</th>\n",
       "      <th>STATUS</th>\n",
       "      <th>ADDRTYPE</th>\n",
       "      <th>INTKEY</th>\n",
       "      <th>...</th>\n",
       "      <th>ROADCOND</th>\n",
       "      <th>LIGHTCOND</th>\n",
       "      <th>PEDROWNOTGRNT</th>\n",
       "      <th>SDOTCOLNUM</th>\n",
       "      <th>SPEEDING</th>\n",
       "      <th>ST_COLCODE</th>\n",
       "      <th>ST_COLDESC</th>\n",
       "      <th>SEGLANEKEY</th>\n",
       "      <th>CROSSWALKKEY</th>\n",
       "      <th>HITPARKEDCAR</th>\n",
       "    </tr>\n",
       "  </thead>\n",
       "  <tbody>\n",
       "    <tr>\n",
       "      <th>0</th>\n",
       "      <td>2</td>\n",
       "      <td>-122.323148</td>\n",
       "      <td>47.703140</td>\n",
       "      <td>1</td>\n",
       "      <td>1307</td>\n",
       "      <td>1307</td>\n",
       "      <td>3502005</td>\n",
       "      <td>Matched</td>\n",
       "      <td>Intersection</td>\n",
       "      <td>37475.0</td>\n",
       "      <td>...</td>\n",
       "      <td>Wet</td>\n",
       "      <td>Daylight</td>\n",
       "      <td>NaN</td>\n",
       "      <td>NaN</td>\n",
       "      <td>NaN</td>\n",
       "      <td>10</td>\n",
       "      <td>Entering at angle</td>\n",
       "      <td>0</td>\n",
       "      <td>0</td>\n",
       "      <td>N</td>\n",
       "    </tr>\n",
       "    <tr>\n",
       "      <th>1</th>\n",
       "      <td>1</td>\n",
       "      <td>-122.347294</td>\n",
       "      <td>47.647172</td>\n",
       "      <td>2</td>\n",
       "      <td>52200</td>\n",
       "      <td>52200</td>\n",
       "      <td>2607959</td>\n",
       "      <td>Matched</td>\n",
       "      <td>Block</td>\n",
       "      <td>NaN</td>\n",
       "      <td>...</td>\n",
       "      <td>Wet</td>\n",
       "      <td>Dark - Street Lights On</td>\n",
       "      <td>NaN</td>\n",
       "      <td>6354039.0</td>\n",
       "      <td>NaN</td>\n",
       "      <td>11</td>\n",
       "      <td>From same direction - both going straight - bo...</td>\n",
       "      <td>0</td>\n",
       "      <td>0</td>\n",
       "      <td>N</td>\n",
       "    </tr>\n",
       "    <tr>\n",
       "      <th>2</th>\n",
       "      <td>1</td>\n",
       "      <td>-122.334540</td>\n",
       "      <td>47.607871</td>\n",
       "      <td>3</td>\n",
       "      <td>26700</td>\n",
       "      <td>26700</td>\n",
       "      <td>1482393</td>\n",
       "      <td>Matched</td>\n",
       "      <td>Block</td>\n",
       "      <td>NaN</td>\n",
       "      <td>...</td>\n",
       "      <td>Dry</td>\n",
       "      <td>Daylight</td>\n",
       "      <td>NaN</td>\n",
       "      <td>4323031.0</td>\n",
       "      <td>NaN</td>\n",
       "      <td>32</td>\n",
       "      <td>One parked--one moving</td>\n",
       "      <td>0</td>\n",
       "      <td>0</td>\n",
       "      <td>N</td>\n",
       "    </tr>\n",
       "    <tr>\n",
       "      <th>3</th>\n",
       "      <td>1</td>\n",
       "      <td>-122.334803</td>\n",
       "      <td>47.604803</td>\n",
       "      <td>4</td>\n",
       "      <td>1144</td>\n",
       "      <td>1144</td>\n",
       "      <td>3503937</td>\n",
       "      <td>Matched</td>\n",
       "      <td>Block</td>\n",
       "      <td>NaN</td>\n",
       "      <td>...</td>\n",
       "      <td>Dry</td>\n",
       "      <td>Daylight</td>\n",
       "      <td>NaN</td>\n",
       "      <td>NaN</td>\n",
       "      <td>NaN</td>\n",
       "      <td>23</td>\n",
       "      <td>From same direction - all others</td>\n",
       "      <td>0</td>\n",
       "      <td>0</td>\n",
       "      <td>N</td>\n",
       "    </tr>\n",
       "    <tr>\n",
       "      <th>4</th>\n",
       "      <td>2</td>\n",
       "      <td>-122.306426</td>\n",
       "      <td>47.545739</td>\n",
       "      <td>5</td>\n",
       "      <td>17700</td>\n",
       "      <td>17700</td>\n",
       "      <td>1807429</td>\n",
       "      <td>Matched</td>\n",
       "      <td>Intersection</td>\n",
       "      <td>34387.0</td>\n",
       "      <td>...</td>\n",
       "      <td>Wet</td>\n",
       "      <td>Daylight</td>\n",
       "      <td>NaN</td>\n",
       "      <td>4028032.0</td>\n",
       "      <td>NaN</td>\n",
       "      <td>10</td>\n",
       "      <td>Entering at angle</td>\n",
       "      <td>0</td>\n",
       "      <td>0</td>\n",
       "      <td>N</td>\n",
       "    </tr>\n",
       "  </tbody>\n",
       "</table>\n",
       "<p>5 rows × 38 columns</p>\n",
       "</div>"
      ],
      "text/plain": [
       "   SEVERITYCODE           X          Y  OBJECTID  INCKEY  COLDETKEY REPORTNO  \\\n",
       "0             2 -122.323148  47.703140         1    1307       1307  3502005   \n",
       "1             1 -122.347294  47.647172         2   52200      52200  2607959   \n",
       "2             1 -122.334540  47.607871         3   26700      26700  1482393   \n",
       "3             1 -122.334803  47.604803         4    1144       1144  3503937   \n",
       "4             2 -122.306426  47.545739         5   17700      17700  1807429   \n",
       "\n",
       "    STATUS      ADDRTYPE   INTKEY  ... ROADCOND                LIGHTCOND  \\\n",
       "0  Matched  Intersection  37475.0  ...      Wet                 Daylight   \n",
       "1  Matched         Block      NaN  ...      Wet  Dark - Street Lights On   \n",
       "2  Matched         Block      NaN  ...      Dry                 Daylight   \n",
       "3  Matched         Block      NaN  ...      Dry                 Daylight   \n",
       "4  Matched  Intersection  34387.0  ...      Wet                 Daylight   \n",
       "\n",
       "  PEDROWNOTGRNT  SDOTCOLNUM SPEEDING ST_COLCODE  \\\n",
       "0           NaN         NaN      NaN         10   \n",
       "1           NaN   6354039.0      NaN         11   \n",
       "2           NaN   4323031.0      NaN         32   \n",
       "3           NaN         NaN      NaN         23   \n",
       "4           NaN   4028032.0      NaN         10   \n",
       "\n",
       "                                          ST_COLDESC  SEGLANEKEY  \\\n",
       "0                                  Entering at angle           0   \n",
       "1  From same direction - both going straight - bo...           0   \n",
       "2                             One parked--one moving           0   \n",
       "3                   From same direction - all others           0   \n",
       "4                                  Entering at angle           0   \n",
       "\n",
       "   CROSSWALKKEY  HITPARKEDCAR  \n",
       "0             0             N  \n",
       "1             0             N  \n",
       "2             0             N  \n",
       "3             0             N  \n",
       "4             0             N  \n",
       "\n",
       "[5 rows x 38 columns]"
      ]
     },
     "execution_count": 493,
     "metadata": {},
     "output_type": "execute_result"
    }
   ],
   "source": [
    "df.head()"
   ]
  },
  {
   "cell_type": "code",
   "execution_count": 494,
   "metadata": {},
   "outputs": [
    {
     "data": {
      "text/plain": [
       "(194673, 38)"
      ]
     },
     "execution_count": 494,
     "metadata": {},
     "output_type": "execute_result"
    }
   ],
   "source": [
    "df.shape"
   ]
  },
  {
   "cell_type": "code",
   "execution_count": 495,
   "metadata": {},
   "outputs": [
    {
     "name": "stdout",
     "output_type": "stream",
     "text": [
      "<class 'pandas.core.frame.DataFrame'>\n",
      "RangeIndex: 194673 entries, 0 to 194672\n",
      "Data columns (total 38 columns):\n",
      "SEVERITYCODE      194673 non-null int64\n",
      "X                 189339 non-null float64\n",
      "Y                 189339 non-null float64\n",
      "OBJECTID          194673 non-null int64\n",
      "INCKEY            194673 non-null int64\n",
      "COLDETKEY         194673 non-null int64\n",
      "REPORTNO          194673 non-null object\n",
      "STATUS            194673 non-null object\n",
      "ADDRTYPE          192747 non-null object\n",
      "INTKEY            65070 non-null float64\n",
      "LOCATION          191996 non-null object\n",
      "EXCEPTRSNCODE     84811 non-null object\n",
      "EXCEPTRSNDESC     5638 non-null object\n",
      "SEVERITYCODE.1    194673 non-null int64\n",
      "SEVERITYDESC      194673 non-null object\n",
      "COLLISIONTYPE     189769 non-null object\n",
      "PERSONCOUNT       194673 non-null int64\n",
      "PEDCOUNT          194673 non-null int64\n",
      "PEDCYLCOUNT       194673 non-null int64\n",
      "VEHCOUNT          194673 non-null int64\n",
      "INCDATE           194673 non-null object\n",
      "INCDTTM           194673 non-null object\n",
      "JUNCTIONTYPE      188344 non-null object\n",
      "SDOT_COLCODE      194673 non-null int64\n",
      "SDOT_COLDESC      194673 non-null object\n",
      "INATTENTIONIND    29805 non-null object\n",
      "UNDERINFL         189789 non-null object\n",
      "WEATHER           189592 non-null object\n",
      "ROADCOND          189661 non-null object\n",
      "LIGHTCOND         189503 non-null object\n",
      "PEDROWNOTGRNT     4667 non-null object\n",
      "SDOTCOLNUM        114936 non-null float64\n",
      "SPEEDING          9333 non-null object\n",
      "ST_COLCODE        194655 non-null object\n",
      "ST_COLDESC        189769 non-null object\n",
      "SEGLANEKEY        194673 non-null int64\n",
      "CROSSWALKKEY      194673 non-null int64\n",
      "HITPARKEDCAR      194673 non-null object\n",
      "dtypes: float64(4), int64(12), object(22)\n",
      "memory usage: 56.4+ MB\n"
     ]
    }
   ],
   "source": [
    "df.info()"
   ]
  },
  {
   "cell_type": "markdown",
   "metadata": {},
   "source": [
    "Let's see how many of each class is in our data set"
   ]
  },
  {
   "cell_type": "code",
   "execution_count": 496,
   "metadata": {},
   "outputs": [
    {
     "data": {
      "text/plain": [
       "1    136485\n",
       "2     58188\n",
       "Name: SEVERITYCODE, dtype: int64"
      ]
     },
     "execution_count": 496,
     "metadata": {},
     "output_type": "execute_result"
    }
   ],
   "source": [
    "df['SEVERITYCODE'].value_counts()"
   ]
  },
  {
   "cell_type": "markdown",
   "metadata": {},
   "source": [
    "136485 incidents ended with **property damage** and 58188 involved **injury**. Our dataset is **imbalanced**."
   ]
  },
  {
   "cell_type": "markdown",
   "metadata": {},
   "source": [
    "## Data visualization and pre-processing"
   ]
  },
  {
   "cell_type": "markdown",
   "metadata": {},
   "source": [
    "### Review and fill up missing values first"
   ]
  },
  {
   "cell_type": "markdown",
   "metadata": {},
   "source": [
    "#### Let's count number of Null values in each column"
   ]
  },
  {
   "cell_type": "code",
   "execution_count": 497,
   "metadata": {},
   "outputs": [
    {
     "data": {
      "text/plain": [
       "SEVERITYCODE           0\n",
       "X                   5334\n",
       "Y                   5334\n",
       "OBJECTID               0\n",
       "INCKEY                 0\n",
       "COLDETKEY              0\n",
       "REPORTNO               0\n",
       "STATUS                 0\n",
       "ADDRTYPE            1926\n",
       "INTKEY            129603\n",
       "LOCATION            2677\n",
       "EXCEPTRSNCODE     109862\n",
       "EXCEPTRSNDESC     189035\n",
       "SEVERITYCODE.1         0\n",
       "SEVERITYDESC           0\n",
       "COLLISIONTYPE       4904\n",
       "PERSONCOUNT            0\n",
       "PEDCOUNT               0\n",
       "PEDCYLCOUNT            0\n",
       "VEHCOUNT               0\n",
       "INCDATE                0\n",
       "INCDTTM                0\n",
       "JUNCTIONTYPE        6329\n",
       "SDOT_COLCODE           0\n",
       "SDOT_COLDESC           0\n",
       "INATTENTIONIND    164868\n",
       "UNDERINFL           4884\n",
       "WEATHER             5081\n",
       "ROADCOND            5012\n",
       "LIGHTCOND           5170\n",
       "PEDROWNOTGRNT     190006\n",
       "SDOTCOLNUM         79737\n",
       "SPEEDING          185340\n",
       "ST_COLCODE            18\n",
       "ST_COLDESC          4904\n",
       "SEGLANEKEY             0\n",
       "CROSSWALKKEY           0\n",
       "HITPARKEDCAR           0\n",
       "dtype: int64"
      ]
     },
     "execution_count": 497,
     "metadata": {},
     "output_type": "execute_result"
    }
   ],
   "source": [
    "df.isnull().sum()"
   ]
  },
  {
   "cell_type": "markdown",
   "metadata": {},
   "source": [
    "#### All missing values that we are interested in are categorical type. Some missing values will be replaced with mode, another - with 'Unknown' status, the rest will be converted from categorical to numeric values"
   ]
  },
  {
   "cell_type": "code",
   "execution_count": 498,
   "metadata": {},
   "outputs": [],
   "source": [
    "def nan_to_max_occ(item):\n",
    "    df.loc[df[item].isnull(), [item]] = df[item].value_counts().idxmax()"
   ]
  },
  {
   "cell_type": "code",
   "execution_count": 499,
   "metadata": {},
   "outputs": [],
   "source": [
    "def nan_to_unknown(item):    \n",
    "    df.loc[df[item].isnull(), [item]] = 'Unknown'"
   ]
  },
  {
   "cell_type": "code",
   "execution_count": 500,
   "metadata": {},
   "outputs": [],
   "source": [
    "def nan_to_numeric(item):\n",
    "    df.loc[df[item].isnull(), item] = 0\n",
    "    df.loc[df[item] == 'N', item] = 0\n",
    "    df.loc[df[item] == 'Y', item] = 1"
   ]
  },
  {
   "cell_type": "code",
   "execution_count": 501,
   "metadata": {},
   "outputs": [],
   "source": [
    "for item in ['ADDRTYPE', 'COLLISIONTYPE', 'SDOT_COLCODE']:\n",
    "    nan_to_max_occ(item)"
   ]
  },
  {
   "cell_type": "code",
   "execution_count": 502,
   "metadata": {},
   "outputs": [],
   "source": [
    "for item in ['JUNCTIONTYPE', 'WEATHER', 'ROADCOND', 'LIGHTCOND']:\n",
    "    nan_to_unknown(item)"
   ]
  },
  {
   "cell_type": "code",
   "execution_count": 503,
   "metadata": {},
   "outputs": [],
   "source": [
    "for item in ['INATTENTIONIND', 'SPEEDING', 'HITPARKEDCAR', 'PEDROWNOTGRNT']:\n",
    "    nan_to_numeric(item)"
   ]
  },
  {
   "cell_type": "code",
   "execution_count": 504,
   "metadata": {},
   "outputs": [
    {
     "data": {
      "text/plain": [
       "N    100274\n",
       "0     80394\n",
       "Y      5126\n",
       "1      3995\n",
       "Name: UNDERINFL, dtype: int64"
      ]
     },
     "execution_count": 504,
     "metadata": {},
     "output_type": "execute_result"
    }
   ],
   "source": [
    "df['UNDERINFL'].value_counts()"
   ]
  },
  {
   "cell_type": "code",
   "execution_count": 505,
   "metadata": {},
   "outputs": [],
   "source": [
    "df['UNDERINFL'] = df['UNDERINFL'].replace(to_replace=[np.nan, 'N', '0', 'Y', '1'], value=[0, 0, 0, 1, 1])"
   ]
  },
  {
   "cell_type": "code",
   "execution_count": 506,
   "metadata": {},
   "outputs": [
    {
     "data": {
      "text/plain": [
       "0    185552\n",
       "1      9121\n",
       "Name: UNDERINFL, dtype: int64"
      ]
     },
     "execution_count": 506,
     "metadata": {},
     "output_type": "execute_result"
    }
   ],
   "source": [
    "df['UNDERINFL'].value_counts()"
   ]
  },
  {
   "cell_type": "code",
   "execution_count": 507,
   "metadata": {
    "scrolled": false
   },
   "outputs": [
    {
     "data": {
      "text/plain": [
       "SEVERITYCODE           0\n",
       "X                   5334\n",
       "Y                   5334\n",
       "OBJECTID               0\n",
       "INCKEY                 0\n",
       "COLDETKEY              0\n",
       "REPORTNO               0\n",
       "STATUS                 0\n",
       "ADDRTYPE               0\n",
       "INTKEY            129603\n",
       "LOCATION            2677\n",
       "EXCEPTRSNCODE     109862\n",
       "EXCEPTRSNDESC     189035\n",
       "SEVERITYCODE.1         0\n",
       "SEVERITYDESC           0\n",
       "COLLISIONTYPE          0\n",
       "PERSONCOUNT            0\n",
       "PEDCOUNT               0\n",
       "PEDCYLCOUNT            0\n",
       "VEHCOUNT               0\n",
       "INCDATE                0\n",
       "INCDTTM                0\n",
       "JUNCTIONTYPE           0\n",
       "SDOT_COLCODE           0\n",
       "SDOT_COLDESC           0\n",
       "INATTENTIONIND         0\n",
       "UNDERINFL              0\n",
       "WEATHER                0\n",
       "ROADCOND               0\n",
       "LIGHTCOND              0\n",
       "PEDROWNOTGRNT          0\n",
       "SDOTCOLNUM         79737\n",
       "SPEEDING               0\n",
       "ST_COLCODE            18\n",
       "ST_COLDESC          4904\n",
       "SEGLANEKEY             0\n",
       "CROSSWALKKEY           0\n",
       "HITPARKEDCAR           0\n",
       "dtype: int64"
      ]
     },
     "execution_count": 507,
     "metadata": {},
     "output_type": "execute_result"
    }
   ],
   "source": [
    "df.isnull().sum()"
   ]
  },
  {
   "cell_type": "code",
   "execution_count": 508,
   "metadata": {},
   "outputs": [
    {
     "data": {
      "text/plain": [
       "UNDERINFL  SEVERITYCODE\n",
       "0          1               0.705603\n",
       "           2               0.294397\n",
       "1          1               0.609473\n",
       "           2               0.390527\n",
       "Name: SEVERITYCODE, dtype: float64"
      ]
     },
     "execution_count": 508,
     "metadata": {},
     "output_type": "execute_result"
    }
   ],
   "source": [
    "df.groupby(['UNDERINFL'])['SEVERITYCODE'].value_counts(normalize=True)"
   ]
  },
  {
   "cell_type": "code",
   "execution_count": 510,
   "metadata": {},
   "outputs": [],
   "source": [
    "df['INCDATE'] = pd.to_datetime(df['INCDATE'])"
   ]
  },
  {
   "cell_type": "code",
   "execution_count": 511,
   "metadata": {},
   "outputs": [],
   "source": [
    "df['INCDTTM'] = pd.to_datetime(df['INCDTTM'])"
   ]
  },
  {
   "cell_type": "code",
   "execution_count": 512,
   "metadata": {},
   "outputs": [
    {
     "data": {
      "text/plain": [
       "0   2013-03-27 14:54:00\n",
       "1   2006-12-20 18:55:00\n",
       "2   2004-11-18 10:20:00\n",
       "3   2013-03-29 09:26:00\n",
       "4   2004-01-28 08:04:00\n",
       "Name: INCDTTM, dtype: datetime64[ns]"
      ]
     },
     "execution_count": 512,
     "metadata": {},
     "output_type": "execute_result"
    }
   ],
   "source": [
    "df['INCDTTM'].head()"
   ]
  },
  {
   "cell_type": "code",
   "execution_count": 513,
   "metadata": {},
   "outputs": [
    {
     "data": {
      "text/html": [
       "<div>\n",
       "<style scoped>\n",
       "    .dataframe tbody tr th:only-of-type {\n",
       "        vertical-align: middle;\n",
       "    }\n",
       "\n",
       "    .dataframe tbody tr th {\n",
       "        vertical-align: top;\n",
       "    }\n",
       "\n",
       "    .dataframe thead th {\n",
       "        text-align: right;\n",
       "    }\n",
       "</style>\n",
       "<table border=\"1\" class=\"dataframe\">\n",
       "  <thead>\n",
       "    <tr style=\"text-align: right;\">\n",
       "      <th></th>\n",
       "      <th>SEVERITYCODE</th>\n",
       "      <th>X</th>\n",
       "      <th>Y</th>\n",
       "      <th>OBJECTID</th>\n",
       "      <th>INCKEY</th>\n",
       "      <th>COLDETKEY</th>\n",
       "      <th>REPORTNO</th>\n",
       "      <th>STATUS</th>\n",
       "      <th>ADDRTYPE</th>\n",
       "      <th>INTKEY</th>\n",
       "      <th>...</th>\n",
       "      <th>ROADCOND</th>\n",
       "      <th>LIGHTCOND</th>\n",
       "      <th>PEDROWNOTGRNT</th>\n",
       "      <th>SDOTCOLNUM</th>\n",
       "      <th>SPEEDING</th>\n",
       "      <th>ST_COLCODE</th>\n",
       "      <th>ST_COLDESC</th>\n",
       "      <th>SEGLANEKEY</th>\n",
       "      <th>CROSSWALKKEY</th>\n",
       "      <th>HITPARKEDCAR</th>\n",
       "    </tr>\n",
       "  </thead>\n",
       "  <tbody>\n",
       "    <tr>\n",
       "      <th>0</th>\n",
       "      <td>2</td>\n",
       "      <td>-122.323148</td>\n",
       "      <td>47.703140</td>\n",
       "      <td>1</td>\n",
       "      <td>1307</td>\n",
       "      <td>1307</td>\n",
       "      <td>3502005</td>\n",
       "      <td>Matched</td>\n",
       "      <td>Intersection</td>\n",
       "      <td>37475.0</td>\n",
       "      <td>...</td>\n",
       "      <td>Wet</td>\n",
       "      <td>Daylight</td>\n",
       "      <td>0</td>\n",
       "      <td>NaN</td>\n",
       "      <td>0</td>\n",
       "      <td>10</td>\n",
       "      <td>Entering at angle</td>\n",
       "      <td>0</td>\n",
       "      <td>0</td>\n",
       "      <td>0</td>\n",
       "    </tr>\n",
       "    <tr>\n",
       "      <th>1</th>\n",
       "      <td>1</td>\n",
       "      <td>-122.347294</td>\n",
       "      <td>47.647172</td>\n",
       "      <td>2</td>\n",
       "      <td>52200</td>\n",
       "      <td>52200</td>\n",
       "      <td>2607959</td>\n",
       "      <td>Matched</td>\n",
       "      <td>Block</td>\n",
       "      <td>NaN</td>\n",
       "      <td>...</td>\n",
       "      <td>Wet</td>\n",
       "      <td>Dark - Street Lights On</td>\n",
       "      <td>0</td>\n",
       "      <td>6354039.0</td>\n",
       "      <td>0</td>\n",
       "      <td>11</td>\n",
       "      <td>From same direction - both going straight - bo...</td>\n",
       "      <td>0</td>\n",
       "      <td>0</td>\n",
       "      <td>0</td>\n",
       "    </tr>\n",
       "    <tr>\n",
       "      <th>2</th>\n",
       "      <td>1</td>\n",
       "      <td>-122.334540</td>\n",
       "      <td>47.607871</td>\n",
       "      <td>3</td>\n",
       "      <td>26700</td>\n",
       "      <td>26700</td>\n",
       "      <td>1482393</td>\n",
       "      <td>Matched</td>\n",
       "      <td>Block</td>\n",
       "      <td>NaN</td>\n",
       "      <td>...</td>\n",
       "      <td>Dry</td>\n",
       "      <td>Daylight</td>\n",
       "      <td>0</td>\n",
       "      <td>4323031.0</td>\n",
       "      <td>0</td>\n",
       "      <td>32</td>\n",
       "      <td>One parked--one moving</td>\n",
       "      <td>0</td>\n",
       "      <td>0</td>\n",
       "      <td>0</td>\n",
       "    </tr>\n",
       "    <tr>\n",
       "      <th>3</th>\n",
       "      <td>1</td>\n",
       "      <td>-122.334803</td>\n",
       "      <td>47.604803</td>\n",
       "      <td>4</td>\n",
       "      <td>1144</td>\n",
       "      <td>1144</td>\n",
       "      <td>3503937</td>\n",
       "      <td>Matched</td>\n",
       "      <td>Block</td>\n",
       "      <td>NaN</td>\n",
       "      <td>...</td>\n",
       "      <td>Dry</td>\n",
       "      <td>Daylight</td>\n",
       "      <td>0</td>\n",
       "      <td>NaN</td>\n",
       "      <td>0</td>\n",
       "      <td>23</td>\n",
       "      <td>From same direction - all others</td>\n",
       "      <td>0</td>\n",
       "      <td>0</td>\n",
       "      <td>0</td>\n",
       "    </tr>\n",
       "    <tr>\n",
       "      <th>4</th>\n",
       "      <td>2</td>\n",
       "      <td>-122.306426</td>\n",
       "      <td>47.545739</td>\n",
       "      <td>5</td>\n",
       "      <td>17700</td>\n",
       "      <td>17700</td>\n",
       "      <td>1807429</td>\n",
       "      <td>Matched</td>\n",
       "      <td>Intersection</td>\n",
       "      <td>34387.0</td>\n",
       "      <td>...</td>\n",
       "      <td>Wet</td>\n",
       "      <td>Daylight</td>\n",
       "      <td>0</td>\n",
       "      <td>4028032.0</td>\n",
       "      <td>0</td>\n",
       "      <td>10</td>\n",
       "      <td>Entering at angle</td>\n",
       "      <td>0</td>\n",
       "      <td>0</td>\n",
       "      <td>0</td>\n",
       "    </tr>\n",
       "  </tbody>\n",
       "</table>\n",
       "<p>5 rows × 38 columns</p>\n",
       "</div>"
      ],
      "text/plain": [
       "   SEVERITYCODE           X          Y  OBJECTID  INCKEY  COLDETKEY REPORTNO  \\\n",
       "0             2 -122.323148  47.703140         1    1307       1307  3502005   \n",
       "1             1 -122.347294  47.647172         2   52200      52200  2607959   \n",
       "2             1 -122.334540  47.607871         3   26700      26700  1482393   \n",
       "3             1 -122.334803  47.604803         4    1144       1144  3503937   \n",
       "4             2 -122.306426  47.545739         5   17700      17700  1807429   \n",
       "\n",
       "    STATUS      ADDRTYPE   INTKEY  ... ROADCOND                LIGHTCOND  \\\n",
       "0  Matched  Intersection  37475.0  ...      Wet                 Daylight   \n",
       "1  Matched         Block      NaN  ...      Wet  Dark - Street Lights On   \n",
       "2  Matched         Block      NaN  ...      Dry                 Daylight   \n",
       "3  Matched         Block      NaN  ...      Dry                 Daylight   \n",
       "4  Matched  Intersection  34387.0  ...      Wet                 Daylight   \n",
       "\n",
       "  PEDROWNOTGRNT  SDOTCOLNUM SPEEDING ST_COLCODE  \\\n",
       "0             0         NaN        0         10   \n",
       "1             0   6354039.0        0         11   \n",
       "2             0   4323031.0        0         32   \n",
       "3             0         NaN        0         23   \n",
       "4             0   4028032.0        0         10   \n",
       "\n",
       "                                          ST_COLDESC  SEGLANEKEY  \\\n",
       "0                                  Entering at angle           0   \n",
       "1  From same direction - both going straight - bo...           0   \n",
       "2                             One parked--one moving           0   \n",
       "3                   From same direction - all others           0   \n",
       "4                                  Entering at angle           0   \n",
       "\n",
       "   CROSSWALKKEY  HITPARKEDCAR  \n",
       "0             0             0  \n",
       "1             0             0  \n",
       "2             0             0  \n",
       "3             0             0  \n",
       "4             0             0  \n",
       "\n",
       "[5 rows x 38 columns]"
      ]
     },
     "execution_count": 513,
     "metadata": {},
     "output_type": "execute_result"
    }
   ],
   "source": [
    "df.head()"
   ]
  },
  {
   "cell_type": "markdown",
   "metadata": {},
   "source": [
    "### Let's review outliers for numeric features "
   ]
  },
  {
   "cell_type": "markdown",
   "metadata": {},
   "source": [
    "#### Number of persons involved in the collision with severity type:"
   ]
  },
  {
   "cell_type": "code",
   "execution_count": 514,
   "metadata": {},
   "outputs": [
    {
     "data": {
      "image/png": "[encoded data removed]",
      "text/plain": [
       "<Figure size 432x288 with 1 Axes>"
      ]
     },
     "metadata": {
      "needs_background": "light"
     },
     "output_type": "display_data"
    }
   ],
   "source": [
    "x1 = list(df[df['SEVERITYCODE'] == 1]['PERSONCOUNT'])\n",
    "x2 = list(df[df['SEVERITYCODE'] == 2]['PERSONCOUNT'])\n",
    "\n",
    "colors = ['#E69F00', '#56B4E9']\n",
    "names = ['Property Damage', 'Injury']\n",
    "\n",
    "\n",
    "plt.hist([x1, x2], color=colors, stacked=True, range=[0, 10], label=names, bins=10);\n",
    "\n",
    "plt.legend()\n",
    "plt.xlabel('Number of Persons')\n",
    "plt.ylabel('Number of Collisions')\n",
    "plt.title('Number of Persons Involved in the Collision by Severity Type');"
   ]
  },
  {
   "cell_type": "code",
   "execution_count": 515,
   "metadata": {},
   "outputs": [
    {
     "data": {
      "text/plain": [
       "93        16\n",
       "639       11\n",
       "966       12\n",
       "1124      11\n",
       "1650      17\n",
       "3594      26\n",
       "4073      22\n",
       "4655      37\n",
       "5083      12\n",
       "6452      13\n",
       "6766      13\n",
       "6787      36\n",
       "6798      28\n",
       "7153      17\n",
       "7342      11\n",
       "8497      11\n",
       "10085     14\n",
       "10104     17\n",
       "11355     14\n",
       "12054     16\n",
       "12109     53\n",
       "13730     19\n",
       "13929     12\n",
       "14754     11\n",
       "15762     11\n",
       "16074     11\n",
       "16513     30\n",
       "17395     11\n",
       "17780     11\n",
       "18638     29\n",
       "          ..\n",
       "158368    11\n",
       "160382    12\n",
       "160814    17\n",
       "161022    18\n",
       "164020    15\n",
       "164804    11\n",
       "165216    13\n",
       "165346    24\n",
       "165550    14\n",
       "165623    47\n",
       "166386    11\n",
       "167468    34\n",
       "167519    11\n",
       "167600    16\n",
       "168361    31\n",
       "168667    11\n",
       "171174    27\n",
       "172350    11\n",
       "172463    25\n",
       "173257    28\n",
       "175485    19\n",
       "179127    12\n",
       "179790    25\n",
       "180899    12\n",
       "181843    13\n",
       "185091    13\n",
       "189316    34\n",
       "190965    44\n",
       "191624    12\n",
       "191901    11\n",
       "Name: PERSONCOUNT, Length: 237, dtype: int64"
      ]
     },
     "execution_count": 515,
     "metadata": {},
     "output_type": "execute_result"
    }
   ],
   "source": [
    "df.loc[df['PERSONCOUNT'] > 10, 'PERSONCOUNT']"
   ]
  },
  {
   "cell_type": "markdown",
   "metadata": {},
   "source": [
    "Let's assume that any value above 10 for 'Person Count' will be equal to 10 in order to remove outliers."
   ]
  },
  {
   "cell_type": "code",
   "execution_count": 516,
   "metadata": {},
   "outputs": [],
   "source": [
    "df.loc[df['PERSONCOUNT'] > 10, 'PERSONCOUNT'] = 10"
   ]
  },
  {
   "cell_type": "code",
   "execution_count": 517,
   "metadata": {},
   "outputs": [
    {
     "data": {
      "text/plain": [
       "PERSONCOUNT  SEVERITYCODE\n",
       "0            1               0.682179\n",
       "             2               0.317821\n",
       "1            1               0.749430\n",
       "             2               0.250570\n",
       "2            1               0.756537\n",
       "             2               0.243463\n",
       "3            1               0.621382\n",
       "             2               0.378618\n",
       "4            1               0.570600\n",
       "             2               0.429400\n",
       "5            1               0.549058\n",
       "             2               0.450942\n",
       "6            2               0.502221\n",
       "             1               0.497779\n",
       "7            2               0.563218\n",
       "             1               0.436782\n",
       "8            2               0.532833\n",
       "             1               0.467167\n",
       "9            2               0.597222\n",
       "             1               0.402778\n",
       "10           2               0.512329\n",
       "             1               0.487671\n",
       "Name: SEVERITYCODE, dtype: float64"
      ]
     },
     "execution_count": 517,
     "metadata": {},
     "output_type": "execute_result"
    }
   ],
   "source": [
    "df.groupby('PERSONCOUNT')['SEVERITYCODE'].value_counts(normalize=True)"
   ]
  },
  {
   "cell_type": "markdown",
   "metadata": {},
   "source": [
    "For all collisions where number of persons was more than 2 we see significant increase in injuries. Let's use feature binarization to add another column: "
   ]
  },
  {
   "cell_type": "code",
   "execution_count": 518,
   "metadata": {},
   "outputs": [],
   "source": [
    "df['RPERSONCOUNT'] = df['PERSONCOUNT'].apply(lambda x: 1 if (3 <= x <= 10) else 0)"
   ]
  },
  {
   "cell_type": "markdown",
   "metadata": {},
   "source": [
    "#### Number of pedestrians involved in the collision:"
   ]
  },
  {
   "cell_type": "code",
   "execution_count": 519,
   "metadata": {},
   "outputs": [
    {
     "data": {
      "text/plain": [
       "0    187734\n",
       "1      6685\n",
       "2       226\n",
       "3        22\n",
       "4         4\n",
       "6         1\n",
       "5         1\n",
       "Name: PEDCOUNT, dtype: int64"
      ]
     },
     "execution_count": 519,
     "metadata": {},
     "output_type": "execute_result"
    }
   ],
   "source": [
    "df['PEDCOUNT'].value_counts()"
   ]
  },
  {
   "cell_type": "code",
   "execution_count": 520,
   "metadata": {},
   "outputs": [
    {
     "data": {
      "text/plain": [
       "PEDCOUNT  SEVERITYCODE\n",
       "0         1               0.723295\n",
       "          2               0.276705\n",
       "1         2               0.898579\n",
       "          1               0.101421\n",
       "2         2               0.915929\n",
       "          1               0.084071\n",
       "3         2               0.954545\n",
       "          1               0.045455\n",
       "4         2               1.000000\n",
       "5         2               1.000000\n",
       "6         2               1.000000\n",
       "Name: SEVERITYCODE, dtype: float64"
      ]
     },
     "execution_count": 520,
     "metadata": {},
     "output_type": "execute_result"
    }
   ],
   "source": [
    "df.groupby('PEDCOUNT')['SEVERITYCODE'].value_counts(normalize=True)"
   ]
  },
  {
   "cell_type": "code",
   "execution_count": 521,
   "metadata": {},
   "outputs": [
    {
     "data": {
      "image/png": "[encoded data removed]",
      "text/plain": [
       "<Figure size 432x288 with 1 Axes>"
      ]
     },
     "metadata": {
      "needs_background": "light"
     },
     "output_type": "display_data"
    }
   ],
   "source": [
    "x1 = list(df[df['SEVERITYCODE'] == 1]['PEDCOUNT'])\n",
    "x2 = list(df[df['SEVERITYCODE'] == 2]['PEDCOUNT'])\n",
    "\n",
    "colors = ['#E69F00', '#56B4E9']\n",
    "names = ['Property Damage', 'Injury']\n",
    "\n",
    "\n",
    "plt.hist([x1, x2], color=colors, stacked=True, range=[0, 5], label=names, bins=10);\n",
    "\n",
    "plt.legend()\n",
    "plt.xlabel('Number of Pedestrians')\n",
    "plt.ylabel('Number of Collisions')\n",
    "plt.title('Number of Pedestrians Involved in the Collision by Severity Type');"
   ]
  },
  {
   "cell_type": "markdown",
   "metadata": {},
   "source": [
    "Let's convert it into 0 or 1 values, so either pedestrians were involved into collision or not."
   ]
  },
  {
   "cell_type": "code",
   "execution_count": 522,
   "metadata": {},
   "outputs": [],
   "source": [
    "df.loc[df['PEDCOUNT'] > 1, 'PEDCOUNT'] = 1"
   ]
  },
  {
   "cell_type": "markdown",
   "metadata": {},
   "source": [
    "#### Number of bicycles involved in the collision:"
   ]
  },
  {
   "cell_type": "code",
   "execution_count": 523,
   "metadata": {},
   "outputs": [
    {
     "data": {
      "text/plain": [
       "0    189189\n",
       "1      5441\n",
       "2        43\n",
       "Name: PEDCYLCOUNT, dtype: int64"
      ]
     },
     "execution_count": 523,
     "metadata": {},
     "output_type": "execute_result"
    }
   ],
   "source": [
    "df['PEDCYLCOUNT'].value_counts()"
   ]
  },
  {
   "cell_type": "code",
   "execution_count": 524,
   "metadata": {},
   "outputs": [
    {
     "data": {
      "image/png": "[encoded data removed]",
      "text/plain": [
       "<Figure size 432x288 with 1 Axes>"
      ]
     },
     "metadata": {
      "needs_background": "light"
     },
     "output_type": "display_data"
    }
   ],
   "source": [
    "x1 = list(df[df['SEVERITYCODE'] == 1]['PEDCYLCOUNT'])\n",
    "x2 = list(df[df['SEVERITYCODE'] == 2]['PEDCYLCOUNT'])\n",
    "\n",
    "colors = ['#E69F00', '#56B4E9']\n",
    "names = ['Property Damage', 'Injury']\n",
    "\n",
    "\n",
    "plt.hist([x1, x2], color=colors, stacked=True, range=[0, 5], label=names, bins=10);\n",
    "\n",
    "plt.legend()\n",
    "plt.xlabel('Number of Bicycles')\n",
    "plt.ylabel('Number of Collisions')\n",
    "plt.title('Number of Bicycles Involved in the Collision by Severity Type');"
   ]
  },
  {
   "cell_type": "markdown",
   "metadata": {},
   "source": [
    "Same way let's convert it into 0 or 1 values, so either bicycles were involved into collision or not."
   ]
  },
  {
   "cell_type": "code",
   "execution_count": 525,
   "metadata": {},
   "outputs": [],
   "source": [
    "df.loc[df['PEDCYLCOUNT'] > 1, 'PEDCYLCOUNT'] = 1"
   ]
  },
  {
   "cell_type": "markdown",
   "metadata": {},
   "source": [
    "#### Number of vehicles involved in the collision:"
   ]
  },
  {
   "cell_type": "code",
   "execution_count": 526,
   "metadata": {},
   "outputs": [
    {
     "data": {
      "image/png": "[encoded data removed]",
      "text/plain": [
       "<Figure size 432x288 with 1 Axes>"
      ]
     },
     "metadata": {
      "needs_background": "light"
     },
     "output_type": "display_data"
    }
   ],
   "source": [
    "x1 = list(df[df['SEVERITYCODE'] == 1]['VEHCOUNT'])\n",
    "x2 = list(df[df['SEVERITYCODE'] == 2]['VEHCOUNT'])\n",
    "\n",
    "colors = ['#E69F00', '#56B4E9']\n",
    "names = ['Property Damage', 'Injury']\n",
    "\n",
    "\n",
    "plt.hist([x1, x2], color=colors, stacked=True, range=[0, 9], label=names, bins=10);\n",
    "\n",
    "plt.legend()\n",
    "plt.xlabel('Number of Vehicles')\n",
    "plt.ylabel('Number of Collisions')\n",
    "plt.title('Number of Vehicles Involved in the Collision by Severity Type');"
   ]
  },
  {
   "cell_type": "code",
   "execution_count": 527,
   "metadata": {},
   "outputs": [
    {
     "data": {
      "text/plain": [
       "2     147650\n",
       "1      25748\n",
       "3      13010\n",
       "0       5085\n",
       "4       2426\n",
       "5        529\n",
       "6        146\n",
       "7         46\n",
       "8         15\n",
       "9          9\n",
       "11         6\n",
       "10         2\n",
       "12         1\n",
       "Name: VEHCOUNT, dtype: int64"
      ]
     },
     "execution_count": 527,
     "metadata": {},
     "output_type": "execute_result"
    }
   ],
   "source": [
    "df['VEHCOUNT'].value_counts()"
   ]
  },
  {
   "cell_type": "markdown",
   "metadata": {},
   "source": [
    "Let's assume that any value above 5 for 'Vehicle Count' will be equal 5 to remove outliers."
   ]
  },
  {
   "cell_type": "code",
   "execution_count": 528,
   "metadata": {},
   "outputs": [],
   "source": [
    "df.loc[df['VEHCOUNT'] > 5, 'VEHCOUNT'] = 5"
   ]
  },
  {
   "cell_type": "code",
   "execution_count": 529,
   "metadata": {},
   "outputs": [
    {
     "data": {
      "text/plain": [
       "VEHCOUNT  SEVERITYCODE\n",
       "0         1               0.758702\n",
       "          2               0.241298\n",
       "1         2               0.547810\n",
       "          1               0.452190\n",
       "2         1               0.756526\n",
       "          2               0.243474\n",
       "3         1               0.579554\n",
       "          2               0.420446\n",
       "4         1               0.555647\n",
       "          2               0.444353\n",
       "5         1               0.523873\n",
       "          2               0.476127\n",
       "Name: SEVERITYCODE, dtype: float64"
      ]
     },
     "execution_count": 529,
     "metadata": {},
     "output_type": "execute_result"
    }
   ],
   "source": [
    "df.groupby('VEHCOUNT')['SEVERITYCODE'].value_counts(normalize=True)"
   ]
  },
  {
   "cell_type": "markdown",
   "metadata": {},
   "source": [
    "### Extra features for out dataset"
   ]
  },
  {
   "cell_type": "markdown",
   "metadata": {},
   "source": [
    "#### Let's see if there any specific SDOT collision codes that have high ratio of injuries and create new feature lambda function for anything that is higher than 50%. "
   ]
  },
  {
   "cell_type": "code",
   "execution_count": 530,
   "metadata": {},
   "outputs": [
    {
     "data": {
      "text/plain": [
       "SDOT_COLCODE  SEVERITYCODE\n",
       "0             1                True\n",
       "              2               False\n",
       "11            1                True\n",
       "              2               False\n",
       "12            1                True\n",
       "              2               False\n",
       "13            1                True\n",
       "              2               False\n",
       "14            1                True\n",
       "              2               False\n",
       "15            1                True\n",
       "              2               False\n",
       "16            1                True\n",
       "              2               False\n",
       "18            2                True\n",
       "              1               False\n",
       "21            2                True\n",
       "              1               False\n",
       "22            2                True\n",
       "              1               False\n",
       "23            2                True\n",
       "              1               False\n",
       "24            2                True\n",
       "              1               False\n",
       "25            1                True\n",
       "              2               False\n",
       "26            1                True\n",
       "              2               False\n",
       "27            1                True\n",
       "              2               False\n",
       "Name: SEVERITYCODE, dtype: bool"
      ]
     },
     "execution_count": 530,
     "metadata": {},
     "output_type": "execute_result"
    }
   ],
   "source": [
    "df.groupby('SDOT_COLCODE')['SEVERITYCODE'].value_counts(normalize=True).head(30) > 0.5"
   ]
  },
  {
   "cell_type": "code",
   "execution_count": 531,
   "metadata": {},
   "outputs": [],
   "source": [
    "df['RSDOT_COLCODE'] = df['SDOT_COLCODE'].apply(lambda x: 1 if (x in [18, 21, 22, 23, 24, 29]) else 0)"
   ]
  },
  {
   "cell_type": "markdown",
   "metadata": {},
   "source": [
    "#### Reviewing Location column to see number of collisions occured in the same place."
   ]
  },
  {
   "cell_type": "code",
   "execution_count": 532,
   "metadata": {},
   "outputs": [
    {
     "data": {
      "text/plain": [
       "BATTERY ST TUNNEL NB BETWEEN ALASKAN WY VI NB AND AURORA AVE N                          276\n",
       "BATTERY ST TUNNEL SB BETWEEN AURORA AVE N AND ALASKAN WY VI SB                          271\n",
       "N NORTHGATE WAY BETWEEN MERIDIAN AVE N AND CORLISS AVE N                                265\n",
       "AURORA AVE N BETWEEN N 117TH PL AND N 125TH ST                                          254\n",
       "6TH AVE AND JAMES ST                                                                    252\n",
       "AURORA AVE N BETWEEN N 130TH ST AND N 135TH ST                                          239\n",
       "ALASKAN WY VI NB BETWEEN S ROYAL BROUGHAM WAY ON RP AND SENECA ST OFF RP                238\n",
       "RAINIER AVE S BETWEEN S BAYVIEW ST AND S MCCLELLAN ST                                   231\n",
       "ALASKAN WY VI SB BETWEEN COLUMBIA ST ON RP AND ALASKAN WY VI SB EFR OFF RP              212\n",
       "WEST SEATTLE BR EB BETWEEN ALASKAN WY VI NB ON RP AND DELRIDGE-W SEATTLE BR EB ON RP    212\n",
       "Name: LOCATION, dtype: int64"
      ]
     },
     "execution_count": 532,
     "metadata": {},
     "output_type": "execute_result"
    }
   ],
   "source": [
    "df['LOCATION'].value_counts()[:10]"
   ]
  },
  {
   "cell_type": "markdown",
   "metadata": {},
   "source": [
    "Let's add another column with number of collisions in that location and drop Location column"
   ]
  },
  {
   "cell_type": "code",
   "execution_count": 533,
   "metadata": {},
   "outputs": [],
   "source": [
    "df['NUMINCLOCATION'] = df.groupby('LOCATION')['SEVERITYCODE'].transform('size')"
   ]
  },
  {
   "cell_type": "code",
   "execution_count": 534,
   "metadata": {},
   "outputs": [],
   "source": [
    "df.loc[df['NUMINCLOCATION'].isnull(), 'NUMINCLOCATION'] = 0"
   ]
  },
  {
   "cell_type": "code",
   "execution_count": 535,
   "metadata": {},
   "outputs": [],
   "source": [
    "df['NUMINCLOCATION'] = df['NUMINCLOCATION'].astype(np.int64)"
   ]
  },
  {
   "cell_type": "code",
   "execution_count": 536,
   "metadata": {},
   "outputs": [
    {
     "data": {
      "image/png": "[encoded data removed]",
      "text/plain": [
       "<Figure size 432x288 with 1 Axes>"
      ]
     },
     "metadata": {
      "needs_background": "light"
     },
     "output_type": "display_data"
    }
   ],
   "source": [
    "ax = sns.distplot(df['NUMINCLOCATION'])\n",
    "ax.set(xlabel = 'Number of Collisions', title='Distribution of Collisions per Location')\n",
    "plt.show()"
   ]
  },
  {
   "cell_type": "markdown",
   "metadata": {},
   "source": [
    "#### Also add ratio of injuries for each location"
   ]
  },
  {
   "cell_type": "code",
   "execution_count": 537,
   "metadata": {},
   "outputs": [],
   "source": [
    "v = df.groupby('LOCATION').SEVERITYCODE.value_counts().unstack()\n",
    "df['LOCATIONINJRATIO'] = df.LOCATION.map(v[2] / (v[2] + v[1]))"
   ]
  },
  {
   "cell_type": "markdown",
   "metadata": {},
   "source": [
    "#### Now let's assume that any location that had more than 10 collisions and injury ratio is higher than 50% will be considered as risky. "
   ]
  },
  {
   "cell_type": "code",
   "execution_count": 560,
   "metadata": {},
   "outputs": [],
   "source": [
    "del df['INJLOCATION']"
   ]
  },
  {
   "cell_type": "code",
   "execution_count": 561,
   "metadata": {},
   "outputs": [
    {
     "data": {
      "text/plain": [
       "0.0    151627\n",
       "1.0     43046\n",
       "Name: INJLOCATION, dtype: int64"
      ]
     },
     "execution_count": 561,
     "metadata": {},
     "output_type": "execute_result"
    }
   ],
   "source": [
    "\n",
    "df.loc[ (df['LOCATIONINJRATIO'] > 0.4) & (df['NUMINCLOCATION'] > 10) ,'INJLOCATION'] = 1\n",
    "df['INJLOCATION'] = df['INJLOCATION'].fillna(0)\n",
    "\n",
    "df['INJLOCATION'].value_counts()"
   ]
  },
  {
   "cell_type": "code",
   "execution_count": 562,
   "metadata": {},
   "outputs": [
    {
     "data": {
      "text/html": [
       "<div>\n",
       "<style scoped>\n",
       "    .dataframe tbody tr th:only-of-type {\n",
       "        vertical-align: middle;\n",
       "    }\n",
       "\n",
       "    .dataframe tbody tr th {\n",
       "        vertical-align: top;\n",
       "    }\n",
       "\n",
       "    .dataframe thead th {\n",
       "        text-align: right;\n",
       "    }\n",
       "</style>\n",
       "<table border=\"1\" class=\"dataframe\">\n",
       "  <thead>\n",
       "    <tr style=\"text-align: right;\">\n",
       "      <th></th>\n",
       "      <th>SEVERITYCODE</th>\n",
       "      <th>X</th>\n",
       "      <th>Y</th>\n",
       "      <th>OBJECTID</th>\n",
       "      <th>INCKEY</th>\n",
       "      <th>COLDETKEY</th>\n",
       "      <th>REPORTNO</th>\n",
       "      <th>STATUS</th>\n",
       "      <th>ADDRTYPE</th>\n",
       "      <th>INTKEY</th>\n",
       "      <th>...</th>\n",
       "      <th>HITPARKEDCAR</th>\n",
       "      <th>RPERSONCOUNT</th>\n",
       "      <th>RSDOT_COLCODE</th>\n",
       "      <th>NUMINCLOCATION</th>\n",
       "      <th>LOCATIONINJRATIO</th>\n",
       "      <th>DAYOFWEEK</th>\n",
       "      <th>INCHOUR</th>\n",
       "      <th>RHOUR</th>\n",
       "      <th>SDOT_COLCODE_STR</th>\n",
       "      <th>INJLOCATION</th>\n",
       "    </tr>\n",
       "  </thead>\n",
       "  <tbody>\n",
       "    <tr>\n",
       "      <th>0</th>\n",
       "      <td>2</td>\n",
       "      <td>-122.323148</td>\n",
       "      <td>47.703140</td>\n",
       "      <td>1</td>\n",
       "      <td>1307</td>\n",
       "      <td>1307</td>\n",
       "      <td>3502005</td>\n",
       "      <td>Matched</td>\n",
       "      <td>Intersection</td>\n",
       "      <td>37475.0</td>\n",
       "      <td>...</td>\n",
       "      <td>0</td>\n",
       "      <td>0</td>\n",
       "      <td>0</td>\n",
       "      <td>31</td>\n",
       "      <td>0.483871</td>\n",
       "      <td>2</td>\n",
       "      <td>14</td>\n",
       "      <td>1</td>\n",
       "      <td>11</td>\n",
       "      <td>1.0</td>\n",
       "    </tr>\n",
       "    <tr>\n",
       "      <th>1</th>\n",
       "      <td>1</td>\n",
       "      <td>-122.347294</td>\n",
       "      <td>47.647172</td>\n",
       "      <td>2</td>\n",
       "      <td>52200</td>\n",
       "      <td>52200</td>\n",
       "      <td>2607959</td>\n",
       "      <td>Matched</td>\n",
       "      <td>Block</td>\n",
       "      <td>NaN</td>\n",
       "      <td>...</td>\n",
       "      <td>0</td>\n",
       "      <td>0</td>\n",
       "      <td>0</td>\n",
       "      <td>190</td>\n",
       "      <td>0.321053</td>\n",
       "      <td>2</td>\n",
       "      <td>18</td>\n",
       "      <td>1</td>\n",
       "      <td>16</td>\n",
       "      <td>0.0</td>\n",
       "    </tr>\n",
       "    <tr>\n",
       "      <th>2</th>\n",
       "      <td>1</td>\n",
       "      <td>-122.334540</td>\n",
       "      <td>47.607871</td>\n",
       "      <td>3</td>\n",
       "      <td>26700</td>\n",
       "      <td>26700</td>\n",
       "      <td>1482393</td>\n",
       "      <td>Matched</td>\n",
       "      <td>Block</td>\n",
       "      <td>NaN</td>\n",
       "      <td>...</td>\n",
       "      <td>0</td>\n",
       "      <td>1</td>\n",
       "      <td>0</td>\n",
       "      <td>34</td>\n",
       "      <td>0.088235</td>\n",
       "      <td>3</td>\n",
       "      <td>10</td>\n",
       "      <td>1</td>\n",
       "      <td>14</td>\n",
       "      <td>0.0</td>\n",
       "    </tr>\n",
       "    <tr>\n",
       "      <th>3</th>\n",
       "      <td>1</td>\n",
       "      <td>-122.334803</td>\n",
       "      <td>47.604803</td>\n",
       "      <td>4</td>\n",
       "      <td>1144</td>\n",
       "      <td>1144</td>\n",
       "      <td>3503937</td>\n",
       "      <td>Matched</td>\n",
       "      <td>Block</td>\n",
       "      <td>NaN</td>\n",
       "      <td>...</td>\n",
       "      <td>0</td>\n",
       "      <td>1</td>\n",
       "      <td>0</td>\n",
       "      <td>27</td>\n",
       "      <td>0.222222</td>\n",
       "      <td>4</td>\n",
       "      <td>9</td>\n",
       "      <td>1</td>\n",
       "      <td>11</td>\n",
       "      <td>0.0</td>\n",
       "    </tr>\n",
       "    <tr>\n",
       "      <th>4</th>\n",
       "      <td>2</td>\n",
       "      <td>-122.306426</td>\n",
       "      <td>47.545739</td>\n",
       "      <td>5</td>\n",
       "      <td>17700</td>\n",
       "      <td>17700</td>\n",
       "      <td>1807429</td>\n",
       "      <td>Matched</td>\n",
       "      <td>Intersection</td>\n",
       "      <td>34387.0</td>\n",
       "      <td>...</td>\n",
       "      <td>0</td>\n",
       "      <td>0</td>\n",
       "      <td>0</td>\n",
       "      <td>28</td>\n",
       "      <td>0.285714</td>\n",
       "      <td>2</td>\n",
       "      <td>8</td>\n",
       "      <td>0</td>\n",
       "      <td>11</td>\n",
       "      <td>0.0</td>\n",
       "    </tr>\n",
       "  </tbody>\n",
       "</table>\n",
       "<p>5 rows × 47 columns</p>\n",
       "</div>"
      ],
      "text/plain": [
       "   SEVERITYCODE           X          Y  OBJECTID  INCKEY  COLDETKEY REPORTNO  \\\n",
       "0             2 -122.323148  47.703140         1    1307       1307  3502005   \n",
       "1             1 -122.347294  47.647172         2   52200      52200  2607959   \n",
       "2             1 -122.334540  47.607871         3   26700      26700  1482393   \n",
       "3             1 -122.334803  47.604803         4    1144       1144  3503937   \n",
       "4             2 -122.306426  47.545739         5   17700      17700  1807429   \n",
       "\n",
       "    STATUS      ADDRTYPE   INTKEY  ... HITPARKEDCAR RPERSONCOUNT  \\\n",
       "0  Matched  Intersection  37475.0  ...            0            0   \n",
       "1  Matched         Block      NaN  ...            0            0   \n",
       "2  Matched         Block      NaN  ...            0            1   \n",
       "3  Matched         Block      NaN  ...            0            1   \n",
       "4  Matched  Intersection  34387.0  ...            0            0   \n",
       "\n",
       "  RSDOT_COLCODE  NUMINCLOCATION LOCATIONINJRATIO DAYOFWEEK  INCHOUR  RHOUR  \\\n",
       "0             0              31         0.483871         2       14      1   \n",
       "1             0             190         0.321053         2       18      1   \n",
       "2             0              34         0.088235         3       10      1   \n",
       "3             0              27         0.222222         4        9      1   \n",
       "4             0              28         0.285714         2        8      0   \n",
       "\n",
       "   SDOT_COLCODE_STR  INJLOCATION  \n",
       "0                11          1.0  \n",
       "1                16          0.0  \n",
       "2                14          0.0  \n",
       "3                11          0.0  \n",
       "4                11          0.0  \n",
       "\n",
       "[5 rows x 47 columns]"
      ]
     },
     "execution_count": 562,
     "metadata": {},
     "output_type": "execute_result"
    }
   ],
   "source": [
    "df.head()"
   ]
  },
  {
   "cell_type": "markdown",
   "metadata": {},
   "source": [
    "#### Let's see distribution of collisions across the week"
   ]
  },
  {
   "cell_type": "code",
   "execution_count": 563,
   "metadata": {},
   "outputs": [],
   "source": [
    "df['DAYOFWEEK'] = df['INCDTTM'].dt.dayofweek"
   ]
  },
  {
   "cell_type": "code",
   "execution_count": 564,
   "metadata": {},
   "outputs": [
    {
     "data": {
      "image/png": "[encoded data removed]",
      "text/plain": [
       "<Figure size 432x288 with 1 Axes>"
      ]
     },
     "metadata": {
      "needs_background": "light"
     },
     "output_type": "display_data"
    }
   ],
   "source": [
    "x1 = list(df[df['SEVERITYCODE'] == 1]['DAYOFWEEK'])\n",
    "x2 = list(df[df['SEVERITYCODE'] == 2]['DAYOFWEEK'])\n",
    "\n",
    "colors = ['#E69F00', '#56B4E9']\n",
    "names = ['Property Damage', 'Injury']\n",
    "\n",
    "\n",
    "plt.hist([x1, x2], color=colors, stacked=True, range=[0, 6], label=names, bins=7);\n",
    "\n",
    "plt.legend()\n",
    "plt.xlabel('Day of week')\n",
    "plt.ylabel('Number of Collisions')\n",
    "plt.title('Number of Collisions per Day of Week  by Severity Type');"
   ]
  },
  {
   "cell_type": "code",
   "execution_count": 565,
   "metadata": {},
   "outputs": [
    {
     "data": {
      "text/plain": [
       "DAYOFWEEK  SEVERITYCODE\n",
       "0          1               0.697281\n",
       "           2               0.302719\n",
       "1          1               0.694250\n",
       "           2               0.305750\n",
       "2          1               0.695705\n",
       "           2               0.304295\n",
       "3          1               0.692470\n",
       "           2               0.307530\n",
       "4          1               0.704358\n",
       "           2               0.295642\n",
       "5          1               0.706196\n",
       "           2               0.293804\n",
       "6          1               0.722022\n",
       "           2               0.277978\n",
       "Name: SEVERITYCODE, dtype: float64"
      ]
     },
     "execution_count": 565,
     "metadata": {},
     "output_type": "execute_result"
    }
   ],
   "source": [
    "df.groupby('DAYOFWEEK')['SEVERITYCODE'].value_counts(normalize=True)"
   ]
  },
  {
   "cell_type": "markdown",
   "metadata": {},
   "source": [
    "Despite higher number of collisions on Friday, ratio between damages and injuries is constant during the week. "
   ]
  },
  {
   "cell_type": "markdown",
   "metadata": {},
   "source": [
    "#### How about distribution of collisions during the day"
   ]
  },
  {
   "cell_type": "code",
   "execution_count": 566,
   "metadata": {},
   "outputs": [],
   "source": [
    "df['INCHOUR'] = df['INCDTTM'].dt.hour"
   ]
  },
  {
   "cell_type": "code",
   "execution_count": 567,
   "metadata": {},
   "outputs": [
    {
     "data": {
      "image/png": "[encoded data removed]",
      "text/plain": [
       "<Figure size 432x288 with 1 Axes>"
      ]
     },
     "metadata": {
      "needs_background": "light"
     },
     "output_type": "display_data"
    }
   ],
   "source": [
    "x1 = list(df[df['SEVERITYCODE'] == 1]['INCHOUR'])\n",
    "x2 = list(df[df['SEVERITYCODE'] == 2]['INCHOUR'])\n",
    "\n",
    "colors = ['#E69F00', '#56B4E9']\n",
    "names = ['Property Damage', 'Injury']\n",
    "\n",
    "\n",
    "plt.hist([x1, x2], color=colors, stacked=True, range=[1, 24], label=names, bins=24);\n",
    "\n",
    "plt.legend()\n",
    "plt.xlabel('Time of Day')\n",
    "plt.ylabel('Number of Collisions')\n",
    "plt.title('Number of Collisions during the Day by Severity Type');"
   ]
  },
  {
   "cell_type": "markdown",
   "metadata": {},
   "source": [
    "We see a spike of injuries during the day, so let's apply feature binarization for hours between 9:00 and 18:00. At the same time spike at midnight will not be taken into consideration as it also contains null values. "
   ]
  },
  {
   "cell_type": "code",
   "execution_count": 568,
   "metadata": {},
   "outputs": [
    {
     "data": {
      "text/html": [
       "<div>\n",
       "<style scoped>\n",
       "    .dataframe tbody tr th:only-of-type {\n",
       "        vertical-align: middle;\n",
       "    }\n",
       "\n",
       "    .dataframe tbody tr th {\n",
       "        vertical-align: top;\n",
       "    }\n",
       "\n",
       "    .dataframe thead th {\n",
       "        text-align: right;\n",
       "    }\n",
       "</style>\n",
       "<table border=\"1\" class=\"dataframe\">\n",
       "  <thead>\n",
       "    <tr style=\"text-align: right;\">\n",
       "      <th></th>\n",
       "      <th>SEVERITYCODE</th>\n",
       "      <th>X</th>\n",
       "      <th>Y</th>\n",
       "      <th>OBJECTID</th>\n",
       "      <th>INCKEY</th>\n",
       "      <th>COLDETKEY</th>\n",
       "      <th>REPORTNO</th>\n",
       "      <th>STATUS</th>\n",
       "      <th>ADDRTYPE</th>\n",
       "      <th>INTKEY</th>\n",
       "      <th>...</th>\n",
       "      <th>HITPARKEDCAR</th>\n",
       "      <th>RPERSONCOUNT</th>\n",
       "      <th>RSDOT_COLCODE</th>\n",
       "      <th>NUMINCLOCATION</th>\n",
       "      <th>LOCATIONINJRATIO</th>\n",
       "      <th>DAYOFWEEK</th>\n",
       "      <th>INCHOUR</th>\n",
       "      <th>RHOUR</th>\n",
       "      <th>SDOT_COLCODE_STR</th>\n",
       "      <th>INJLOCATION</th>\n",
       "    </tr>\n",
       "  </thead>\n",
       "  <tbody>\n",
       "    <tr>\n",
       "      <th>0</th>\n",
       "      <td>2</td>\n",
       "      <td>-122.323148</td>\n",
       "      <td>47.703140</td>\n",
       "      <td>1</td>\n",
       "      <td>1307</td>\n",
       "      <td>1307</td>\n",
       "      <td>3502005</td>\n",
       "      <td>Matched</td>\n",
       "      <td>Intersection</td>\n",
       "      <td>37475.0</td>\n",
       "      <td>...</td>\n",
       "      <td>0</td>\n",
       "      <td>0</td>\n",
       "      <td>0</td>\n",
       "      <td>31</td>\n",
       "      <td>0.483871</td>\n",
       "      <td>2</td>\n",
       "      <td>14</td>\n",
       "      <td>1</td>\n",
       "      <td>11</td>\n",
       "      <td>1.0</td>\n",
       "    </tr>\n",
       "    <tr>\n",
       "      <th>1</th>\n",
       "      <td>1</td>\n",
       "      <td>-122.347294</td>\n",
       "      <td>47.647172</td>\n",
       "      <td>2</td>\n",
       "      <td>52200</td>\n",
       "      <td>52200</td>\n",
       "      <td>2607959</td>\n",
       "      <td>Matched</td>\n",
       "      <td>Block</td>\n",
       "      <td>NaN</td>\n",
       "      <td>...</td>\n",
       "      <td>0</td>\n",
       "      <td>0</td>\n",
       "      <td>0</td>\n",
       "      <td>190</td>\n",
       "      <td>0.321053</td>\n",
       "      <td>2</td>\n",
       "      <td>18</td>\n",
       "      <td>1</td>\n",
       "      <td>16</td>\n",
       "      <td>0.0</td>\n",
       "    </tr>\n",
       "    <tr>\n",
       "      <th>2</th>\n",
       "      <td>1</td>\n",
       "      <td>-122.334540</td>\n",
       "      <td>47.607871</td>\n",
       "      <td>3</td>\n",
       "      <td>26700</td>\n",
       "      <td>26700</td>\n",
       "      <td>1482393</td>\n",
       "      <td>Matched</td>\n",
       "      <td>Block</td>\n",
       "      <td>NaN</td>\n",
       "      <td>...</td>\n",
       "      <td>0</td>\n",
       "      <td>1</td>\n",
       "      <td>0</td>\n",
       "      <td>34</td>\n",
       "      <td>0.088235</td>\n",
       "      <td>3</td>\n",
       "      <td>10</td>\n",
       "      <td>1</td>\n",
       "      <td>14</td>\n",
       "      <td>0.0</td>\n",
       "    </tr>\n",
       "    <tr>\n",
       "      <th>3</th>\n",
       "      <td>1</td>\n",
       "      <td>-122.334803</td>\n",
       "      <td>47.604803</td>\n",
       "      <td>4</td>\n",
       "      <td>1144</td>\n",
       "      <td>1144</td>\n",
       "      <td>3503937</td>\n",
       "      <td>Matched</td>\n",
       "      <td>Block</td>\n",
       "      <td>NaN</td>\n",
       "      <td>...</td>\n",
       "      <td>0</td>\n",
       "      <td>1</td>\n",
       "      <td>0</td>\n",
       "      <td>27</td>\n",
       "      <td>0.222222</td>\n",
       "      <td>4</td>\n",
       "      <td>9</td>\n",
       "      <td>1</td>\n",
       "      <td>11</td>\n",
       "      <td>0.0</td>\n",
       "    </tr>\n",
       "    <tr>\n",
       "      <th>4</th>\n",
       "      <td>2</td>\n",
       "      <td>-122.306426</td>\n",
       "      <td>47.545739</td>\n",
       "      <td>5</td>\n",
       "      <td>17700</td>\n",
       "      <td>17700</td>\n",
       "      <td>1807429</td>\n",
       "      <td>Matched</td>\n",
       "      <td>Intersection</td>\n",
       "      <td>34387.0</td>\n",
       "      <td>...</td>\n",
       "      <td>0</td>\n",
       "      <td>0</td>\n",
       "      <td>0</td>\n",
       "      <td>28</td>\n",
       "      <td>0.285714</td>\n",
       "      <td>2</td>\n",
       "      <td>8</td>\n",
       "      <td>0</td>\n",
       "      <td>11</td>\n",
       "      <td>0.0</td>\n",
       "    </tr>\n",
       "  </tbody>\n",
       "</table>\n",
       "<p>5 rows × 47 columns</p>\n",
       "</div>"
      ],
      "text/plain": [
       "   SEVERITYCODE           X          Y  OBJECTID  INCKEY  COLDETKEY REPORTNO  \\\n",
       "0             2 -122.323148  47.703140         1    1307       1307  3502005   \n",
       "1             1 -122.347294  47.647172         2   52200      52200  2607959   \n",
       "2             1 -122.334540  47.607871         3   26700      26700  1482393   \n",
       "3             1 -122.334803  47.604803         4    1144       1144  3503937   \n",
       "4             2 -122.306426  47.545739         5   17700      17700  1807429   \n",
       "\n",
       "    STATUS      ADDRTYPE   INTKEY  ... HITPARKEDCAR RPERSONCOUNT  \\\n",
       "0  Matched  Intersection  37475.0  ...            0            0   \n",
       "1  Matched         Block      NaN  ...            0            0   \n",
       "2  Matched         Block      NaN  ...            0            1   \n",
       "3  Matched         Block      NaN  ...            0            1   \n",
       "4  Matched  Intersection  34387.0  ...            0            0   \n",
       "\n",
       "  RSDOT_COLCODE  NUMINCLOCATION LOCATIONINJRATIO DAYOFWEEK  INCHOUR  RHOUR  \\\n",
       "0             0              31         0.483871         2       14      1   \n",
       "1             0             190         0.321053         2       18      1   \n",
       "2             0              34         0.088235         3       10      1   \n",
       "3             0              27         0.222222         4        9      1   \n",
       "4             0              28         0.285714         2        8      0   \n",
       "\n",
       "   SDOT_COLCODE_STR  INJLOCATION  \n",
       "0                11          1.0  \n",
       "1                16          0.0  \n",
       "2                14          0.0  \n",
       "3                11          0.0  \n",
       "4                11          0.0  \n",
       "\n",
       "[5 rows x 47 columns]"
      ]
     },
     "execution_count": 568,
     "metadata": {},
     "output_type": "execute_result"
    }
   ],
   "source": [
    "df['RHOUR'] = df['INCHOUR'].apply(lambda x: 1 if (9 <= x <= 18) else 0)\n",
    "df.head()"
   ]
  },
  {
   "cell_type": "markdown",
   "metadata": {},
   "source": [
    "### One Hot Encoding"
   ]
  },
  {
   "cell_type": "markdown",
   "metadata": {},
   "source": [
    "#### Use one hot encoding technique to conver categorical variables to binary and append them to the feature Data Frame "
   ]
  },
  {
   "cell_type": "code",
   "execution_count": 569,
   "metadata": {},
   "outputs": [],
   "source": [
    "Feature = df[['RPERSONCOUNT', 'PEDCOUNT', 'PEDCYLCOUNT', 'VEHCOUNT', 'INATTENTIONIND', \n",
    "         'UNDERINFL', 'PEDROWNOTGRNT', 'SPEEDING', 'HITPARKEDCAR', 'RHOUR', 'RSDOT_COLCODE', 'INJLOCATION']]"
   ]
  },
  {
   "cell_type": "code",
   "execution_count": 570,
   "metadata": {},
   "outputs": [],
   "source": [
    "df['SDOT_COLCODE_STR'] = df['SDOT_COLCODE'].astype(str)"
   ]
  },
  {
   "cell_type": "code",
   "execution_count": 571,
   "metadata": {},
   "outputs": [],
   "source": [
    "Feature = pd.concat([Feature, pd.get_dummies(df[['ADDRTYPE', 'COLLISIONTYPE', 'JUNCTIONTYPE', 'WEATHER', \n",
    "                                                'ROADCOND', 'LIGHTCOND']])], axis=1)"
   ]
  },
  {
   "cell_type": "code",
   "execution_count": 572,
   "metadata": {},
   "outputs": [
    {
     "data": {
      "text/html": [
       "<div>\n",
       "<style scoped>\n",
       "    .dataframe tbody tr th:only-of-type {\n",
       "        vertical-align: middle;\n",
       "    }\n",
       "\n",
       "    .dataframe tbody tr th {\n",
       "        vertical-align: top;\n",
       "    }\n",
       "\n",
       "    .dataframe thead th {\n",
       "        text-align: right;\n",
       "    }\n",
       "</style>\n",
       "<table border=\"1\" class=\"dataframe\">\n",
       "  <thead>\n",
       "    <tr style=\"text-align: right;\">\n",
       "      <th></th>\n",
       "      <th>RPERSONCOUNT</th>\n",
       "      <th>PEDCOUNT</th>\n",
       "      <th>PEDCYLCOUNT</th>\n",
       "      <th>VEHCOUNT</th>\n",
       "      <th>INATTENTIONIND</th>\n",
       "      <th>UNDERINFL</th>\n",
       "      <th>PEDROWNOTGRNT</th>\n",
       "      <th>SPEEDING</th>\n",
       "      <th>HITPARKEDCAR</th>\n",
       "      <th>RHOUR</th>\n",
       "      <th>...</th>\n",
       "      <th>ROADCOND_Wet</th>\n",
       "      <th>LIGHTCOND_Dark - No Street Lights</th>\n",
       "      <th>LIGHTCOND_Dark - Street Lights Off</th>\n",
       "      <th>LIGHTCOND_Dark - Street Lights On</th>\n",
       "      <th>LIGHTCOND_Dark - Unknown Lighting</th>\n",
       "      <th>LIGHTCOND_Dawn</th>\n",
       "      <th>LIGHTCOND_Daylight</th>\n",
       "      <th>LIGHTCOND_Dusk</th>\n",
       "      <th>LIGHTCOND_Other</th>\n",
       "      <th>LIGHTCOND_Unknown</th>\n",
       "    </tr>\n",
       "  </thead>\n",
       "  <tbody>\n",
       "    <tr>\n",
       "      <th>0</th>\n",
       "      <td>0</td>\n",
       "      <td>0</td>\n",
       "      <td>0</td>\n",
       "      <td>2</td>\n",
       "      <td>0</td>\n",
       "      <td>0</td>\n",
       "      <td>0</td>\n",
       "      <td>0</td>\n",
       "      <td>0</td>\n",
       "      <td>1</td>\n",
       "      <td>...</td>\n",
       "      <td>1</td>\n",
       "      <td>0</td>\n",
       "      <td>0</td>\n",
       "      <td>0</td>\n",
       "      <td>0</td>\n",
       "      <td>0</td>\n",
       "      <td>1</td>\n",
       "      <td>0</td>\n",
       "      <td>0</td>\n",
       "      <td>0</td>\n",
       "    </tr>\n",
       "    <tr>\n",
       "      <th>1</th>\n",
       "      <td>0</td>\n",
       "      <td>0</td>\n",
       "      <td>0</td>\n",
       "      <td>2</td>\n",
       "      <td>0</td>\n",
       "      <td>0</td>\n",
       "      <td>0</td>\n",
       "      <td>0</td>\n",
       "      <td>0</td>\n",
       "      <td>1</td>\n",
       "      <td>...</td>\n",
       "      <td>1</td>\n",
       "      <td>0</td>\n",
       "      <td>0</td>\n",
       "      <td>1</td>\n",
       "      <td>0</td>\n",
       "      <td>0</td>\n",
       "      <td>0</td>\n",
       "      <td>0</td>\n",
       "      <td>0</td>\n",
       "      <td>0</td>\n",
       "    </tr>\n",
       "    <tr>\n",
       "      <th>2</th>\n",
       "      <td>1</td>\n",
       "      <td>0</td>\n",
       "      <td>0</td>\n",
       "      <td>3</td>\n",
       "      <td>0</td>\n",
       "      <td>0</td>\n",
       "      <td>0</td>\n",
       "      <td>0</td>\n",
       "      <td>0</td>\n",
       "      <td>1</td>\n",
       "      <td>...</td>\n",
       "      <td>0</td>\n",
       "      <td>0</td>\n",
       "      <td>0</td>\n",
       "      <td>0</td>\n",
       "      <td>0</td>\n",
       "      <td>0</td>\n",
       "      <td>1</td>\n",
       "      <td>0</td>\n",
       "      <td>0</td>\n",
       "      <td>0</td>\n",
       "    </tr>\n",
       "    <tr>\n",
       "      <th>3</th>\n",
       "      <td>1</td>\n",
       "      <td>0</td>\n",
       "      <td>0</td>\n",
       "      <td>3</td>\n",
       "      <td>0</td>\n",
       "      <td>0</td>\n",
       "      <td>0</td>\n",
       "      <td>0</td>\n",
       "      <td>0</td>\n",
       "      <td>1</td>\n",
       "      <td>...</td>\n",
       "      <td>0</td>\n",
       "      <td>0</td>\n",
       "      <td>0</td>\n",
       "      <td>0</td>\n",
       "      <td>0</td>\n",
       "      <td>0</td>\n",
       "      <td>1</td>\n",
       "      <td>0</td>\n",
       "      <td>0</td>\n",
       "      <td>0</td>\n",
       "    </tr>\n",
       "    <tr>\n",
       "      <th>4</th>\n",
       "      <td>0</td>\n",
       "      <td>0</td>\n",
       "      <td>0</td>\n",
       "      <td>2</td>\n",
       "      <td>0</td>\n",
       "      <td>0</td>\n",
       "      <td>0</td>\n",
       "      <td>0</td>\n",
       "      <td>0</td>\n",
       "      <td>0</td>\n",
       "      <td>...</td>\n",
       "      <td>1</td>\n",
       "      <td>0</td>\n",
       "      <td>0</td>\n",
       "      <td>0</td>\n",
       "      <td>0</td>\n",
       "      <td>0</td>\n",
       "      <td>1</td>\n",
       "      <td>0</td>\n",
       "      <td>0</td>\n",
       "      <td>0</td>\n",
       "    </tr>\n",
       "  </tbody>\n",
       "</table>\n",
       "<p>5 rows × 61 columns</p>\n",
       "</div>"
      ],
      "text/plain": [
       "   RPERSONCOUNT  PEDCOUNT  PEDCYLCOUNT  VEHCOUNT  INATTENTIONIND  UNDERINFL  \\\n",
       "0             0         0            0         2               0          0   \n",
       "1             0         0            0         2               0          0   \n",
       "2             1         0            0         3               0          0   \n",
       "3             1         0            0         3               0          0   \n",
       "4             0         0            0         2               0          0   \n",
       "\n",
       "   PEDROWNOTGRNT  SPEEDING  HITPARKEDCAR  RHOUR  ...  ROADCOND_Wet  \\\n",
       "0              0         0             0      1  ...             1   \n",
       "1              0         0             0      1  ...             1   \n",
       "2              0         0             0      1  ...             0   \n",
       "3              0         0             0      1  ...             0   \n",
       "4              0         0             0      0  ...             1   \n",
       "\n",
       "   LIGHTCOND_Dark - No Street Lights  LIGHTCOND_Dark - Street Lights Off  \\\n",
       "0                                  0                                   0   \n",
       "1                                  0                                   0   \n",
       "2                                  0                                   0   \n",
       "3                                  0                                   0   \n",
       "4                                  0                                   0   \n",
       "\n",
       "   LIGHTCOND_Dark - Street Lights On  LIGHTCOND_Dark - Unknown Lighting  \\\n",
       "0                                  0                                  0   \n",
       "1                                  1                                  0   \n",
       "2                                  0                                  0   \n",
       "3                                  0                                  0   \n",
       "4                                  0                                  0   \n",
       "\n",
       "   LIGHTCOND_Dawn  LIGHTCOND_Daylight  LIGHTCOND_Dusk  LIGHTCOND_Other  \\\n",
       "0               0                   1               0                0   \n",
       "1               0                   0               0                0   \n",
       "2               0                   1               0                0   \n",
       "3               0                   1               0                0   \n",
       "4               0                   1               0                0   \n",
       "\n",
       "   LIGHTCOND_Unknown  \n",
       "0                  0  \n",
       "1                  0  \n",
       "2                  0  \n",
       "3                  0  \n",
       "4                  0  \n",
       "\n",
       "[5 rows x 61 columns]"
      ]
     },
     "execution_count": 572,
     "metadata": {},
     "output_type": "execute_result"
    }
   ],
   "source": [
    "Feature.head()"
   ]
  },
  {
   "cell_type": "markdown",
   "metadata": {},
   "source": [
    "### Feature Selection"
   ]
  },
  {
   "cell_type": "code",
   "execution_count": 573,
   "metadata": {},
   "outputs": [
    {
     "data": {
      "text/html": [
       "<div>\n",
       "<style scoped>\n",
       "    .dataframe tbody tr th:only-of-type {\n",
       "        vertical-align: middle;\n",
       "    }\n",
       "\n",
       "    .dataframe tbody tr th {\n",
       "        vertical-align: top;\n",
       "    }\n",
       "\n",
       "    .dataframe thead th {\n",
       "        text-align: right;\n",
       "    }\n",
       "</style>\n",
       "<table border=\"1\" class=\"dataframe\">\n",
       "  <thead>\n",
       "    <tr style=\"text-align: right;\">\n",
       "      <th></th>\n",
       "      <th>RPERSONCOUNT</th>\n",
       "      <th>PEDCOUNT</th>\n",
       "      <th>PEDCYLCOUNT</th>\n",
       "      <th>VEHCOUNT</th>\n",
       "      <th>INATTENTIONIND</th>\n",
       "      <th>UNDERINFL</th>\n",
       "      <th>PEDROWNOTGRNT</th>\n",
       "      <th>SPEEDING</th>\n",
       "      <th>HITPARKEDCAR</th>\n",
       "      <th>RHOUR</th>\n",
       "      <th>...</th>\n",
       "      <th>ROADCOND_Wet</th>\n",
       "      <th>LIGHTCOND_Dark - No Street Lights</th>\n",
       "      <th>LIGHTCOND_Dark - Street Lights Off</th>\n",
       "      <th>LIGHTCOND_Dark - Street Lights On</th>\n",
       "      <th>LIGHTCOND_Dark - Unknown Lighting</th>\n",
       "      <th>LIGHTCOND_Dawn</th>\n",
       "      <th>LIGHTCOND_Daylight</th>\n",
       "      <th>LIGHTCOND_Dusk</th>\n",
       "      <th>LIGHTCOND_Other</th>\n",
       "      <th>LIGHTCOND_Unknown</th>\n",
       "    </tr>\n",
       "  </thead>\n",
       "  <tbody>\n",
       "    <tr>\n",
       "      <th>0</th>\n",
       "      <td>0</td>\n",
       "      <td>0</td>\n",
       "      <td>0</td>\n",
       "      <td>2</td>\n",
       "      <td>0</td>\n",
       "      <td>0</td>\n",
       "      <td>0</td>\n",
       "      <td>0</td>\n",
       "      <td>0</td>\n",
       "      <td>1</td>\n",
       "      <td>...</td>\n",
       "      <td>1</td>\n",
       "      <td>0</td>\n",
       "      <td>0</td>\n",
       "      <td>0</td>\n",
       "      <td>0</td>\n",
       "      <td>0</td>\n",
       "      <td>1</td>\n",
       "      <td>0</td>\n",
       "      <td>0</td>\n",
       "      <td>0</td>\n",
       "    </tr>\n",
       "    <tr>\n",
       "      <th>1</th>\n",
       "      <td>0</td>\n",
       "      <td>0</td>\n",
       "      <td>0</td>\n",
       "      <td>2</td>\n",
       "      <td>0</td>\n",
       "      <td>0</td>\n",
       "      <td>0</td>\n",
       "      <td>0</td>\n",
       "      <td>0</td>\n",
       "      <td>1</td>\n",
       "      <td>...</td>\n",
       "      <td>1</td>\n",
       "      <td>0</td>\n",
       "      <td>0</td>\n",
       "      <td>1</td>\n",
       "      <td>0</td>\n",
       "      <td>0</td>\n",
       "      <td>0</td>\n",
       "      <td>0</td>\n",
       "      <td>0</td>\n",
       "      <td>0</td>\n",
       "    </tr>\n",
       "    <tr>\n",
       "      <th>2</th>\n",
       "      <td>1</td>\n",
       "      <td>0</td>\n",
       "      <td>0</td>\n",
       "      <td>3</td>\n",
       "      <td>0</td>\n",
       "      <td>0</td>\n",
       "      <td>0</td>\n",
       "      <td>0</td>\n",
       "      <td>0</td>\n",
       "      <td>1</td>\n",
       "      <td>...</td>\n",
       "      <td>0</td>\n",
       "      <td>0</td>\n",
       "      <td>0</td>\n",
       "      <td>0</td>\n",
       "      <td>0</td>\n",
       "      <td>0</td>\n",
       "      <td>1</td>\n",
       "      <td>0</td>\n",
       "      <td>0</td>\n",
       "      <td>0</td>\n",
       "    </tr>\n",
       "    <tr>\n",
       "      <th>3</th>\n",
       "      <td>1</td>\n",
       "      <td>0</td>\n",
       "      <td>0</td>\n",
       "      <td>3</td>\n",
       "      <td>0</td>\n",
       "      <td>0</td>\n",
       "      <td>0</td>\n",
       "      <td>0</td>\n",
       "      <td>0</td>\n",
       "      <td>1</td>\n",
       "      <td>...</td>\n",
       "      <td>0</td>\n",
       "      <td>0</td>\n",
       "      <td>0</td>\n",
       "      <td>0</td>\n",
       "      <td>0</td>\n",
       "      <td>0</td>\n",
       "      <td>1</td>\n",
       "      <td>0</td>\n",
       "      <td>0</td>\n",
       "      <td>0</td>\n",
       "    </tr>\n",
       "    <tr>\n",
       "      <th>4</th>\n",
       "      <td>0</td>\n",
       "      <td>0</td>\n",
       "      <td>0</td>\n",
       "      <td>2</td>\n",
       "      <td>0</td>\n",
       "      <td>0</td>\n",
       "      <td>0</td>\n",
       "      <td>0</td>\n",
       "      <td>0</td>\n",
       "      <td>0</td>\n",
       "      <td>...</td>\n",
       "      <td>1</td>\n",
       "      <td>0</td>\n",
       "      <td>0</td>\n",
       "      <td>0</td>\n",
       "      <td>0</td>\n",
       "      <td>0</td>\n",
       "      <td>1</td>\n",
       "      <td>0</td>\n",
       "      <td>0</td>\n",
       "      <td>0</td>\n",
       "    </tr>\n",
       "  </tbody>\n",
       "</table>\n",
       "<p>5 rows × 61 columns</p>\n",
       "</div>"
      ],
      "text/plain": [
       "   RPERSONCOUNT  PEDCOUNT  PEDCYLCOUNT  VEHCOUNT  INATTENTIONIND  UNDERINFL  \\\n",
       "0             0         0            0         2               0          0   \n",
       "1             0         0            0         2               0          0   \n",
       "2             1         0            0         3               0          0   \n",
       "3             1         0            0         3               0          0   \n",
       "4             0         0            0         2               0          0   \n",
       "\n",
       "   PEDROWNOTGRNT  SPEEDING  HITPARKEDCAR  RHOUR  ...  ROADCOND_Wet  \\\n",
       "0              0         0             0      1  ...             1   \n",
       "1              0         0             0      1  ...             1   \n",
       "2              0         0             0      1  ...             0   \n",
       "3              0         0             0      1  ...             0   \n",
       "4              0         0             0      0  ...             1   \n",
       "\n",
       "   LIGHTCOND_Dark - No Street Lights  LIGHTCOND_Dark - Street Lights Off  \\\n",
       "0                                  0                                   0   \n",
       "1                                  0                                   0   \n",
       "2                                  0                                   0   \n",
       "3                                  0                                   0   \n",
       "4                                  0                                   0   \n",
       "\n",
       "   LIGHTCOND_Dark - Street Lights On  LIGHTCOND_Dark - Unknown Lighting  \\\n",
       "0                                  0                                  0   \n",
       "1                                  1                                  0   \n",
       "2                                  0                                  0   \n",
       "3                                  0                                  0   \n",
       "4                                  0                                  0   \n",
       "\n",
       "   LIGHTCOND_Dawn  LIGHTCOND_Daylight  LIGHTCOND_Dusk  LIGHTCOND_Other  \\\n",
       "0               0                   1               0                0   \n",
       "1               0                   0               0                0   \n",
       "2               0                   1               0                0   \n",
       "3               0                   1               0                0   \n",
       "4               0                   1               0                0   \n",
       "\n",
       "   LIGHTCOND_Unknown  \n",
       "0                  0  \n",
       "1                  0  \n",
       "2                  0  \n",
       "3                  0  \n",
       "4                  0  \n",
       "\n",
       "[5 rows x 61 columns]"
      ]
     },
     "execution_count": 573,
     "metadata": {},
     "output_type": "execute_result"
    }
   ],
   "source": [
    "X = Feature\n",
    "X[0:5]"
   ]
  },
  {
   "cell_type": "markdown",
   "metadata": {},
   "source": [
    "And our target variable:"
   ]
  },
  {
   "cell_type": "code",
   "execution_count": 574,
   "metadata": {},
   "outputs": [
    {
     "data": {
      "text/plain": [
       "0    2\n",
       "1    1\n",
       "2    1\n",
       "3    1\n",
       "4    2\n",
       "Name: SEVERITYCODE, dtype: int64"
      ]
     },
     "execution_count": 574,
     "metadata": {},
     "output_type": "execute_result"
    }
   ],
   "source": [
    "y = df['SEVERITYCODE']\n",
    "y[0:5]"
   ]
  },
  {
   "cell_type": "markdown",
   "metadata": {},
   "source": [
    "### Train Test Split"
   ]
  },
  {
   "cell_type": "code",
   "execution_count": 575,
   "metadata": {},
   "outputs": [
    {
     "name": "stdout",
     "output_type": "stream",
     "text": [
      "Train set: (136271, 61) (136271,)\n",
      "Test set: (58402, 61) (58402,)\n"
     ]
    }
   ],
   "source": [
    "from sklearn.model_selection import train_test_split\n",
    "\n",
    "#Split our dataframe into Training and test with test_size=0.3\n",
    "X_train, X_test, y_train, y_test = train_test_split(X, y, test_size=0.3, random_state=4)\n",
    "print ('Train set:', X_train.shape,  y_train.shape)\n",
    "print ('Test set:', X_test.shape,  y_test.shape)"
   ]
  },
  {
   "cell_type": "markdown",
   "metadata": {},
   "source": [
    "## Normalize Data"
   ]
  },
  {
   "cell_type": "markdown",
   "metadata": {},
   "source": [
    "Data Standardization give data zero mean and unit variance "
   ]
  },
  {
   "cell_type": "code",
   "execution_count": 576,
   "metadata": {},
   "outputs": [
    {
     "name": "stderr",
     "output_type": "stream",
     "text": [
      "C:\\Users\\dvasilyev\\AppData\\Local\\Continuum\\anaconda3\\lib\\site-packages\\sklearn\\preprocessing\\data.py:645: DataConversionWarning: Data with input dtype uint8, int64, float64 were all converted to float64 by StandardScaler.\n",
      "  return self.partial_fit(X, y)\n",
      "C:\\Users\\dvasilyev\\AppData\\Local\\Continuum\\anaconda3\\lib\\site-packages\\sklearn\\base.py:464: DataConversionWarning: Data with input dtype uint8, int64, float64 were all converted to float64 by StandardScaler.\n",
      "  return self.fit(X, **fit_params).transform(X)\n"
     ]
    },
    {
     "data": {
      "text/plain": [
       "array([[-0.68, -0.19, -0.17,  0.13, -0.43, -0.22, -0.16, -0.22, -0.2 ,\n",
       "         0.96, -0.24, -0.53, -0.06, -1.4 ,  1.41, -0.46, -0.17, -0.1 ,\n",
       "         3.62, -0.37, -0.61, -0.19, -0.46, -0.12, -0.33, -0.1 ,  1.45,\n",
       "        -0.24, -0.36, -0.93, -0.03, -0.18, -0.02,  0.87, -0.05, -0.06,\n",
       "        -0.41, -0.01, -0.45, -0.01, -0.02, -0.07, -0.34,  0.75, -0.08,\n",
       "        -0.02, -0.02, -0.02, -0.07, -0.02, -0.34, -0.57, -0.09, -0.08,\n",
       "        -0.58, -0.01, -0.11,  0.82, -0.18, -0.04, -0.33]])"
      ]
     },
     "execution_count": 576,
     "metadata": {},
     "output_type": "execute_result"
    }
   ],
   "source": [
    "X_train = preprocessing.StandardScaler().fit_transform(X_train)\n",
    "X_train[0:1]"
   ]
  },
  {
   "cell_type": "code",
   "execution_count": 577,
   "metadata": {},
   "outputs": [
    {
     "name": "stderr",
     "output_type": "stream",
     "text": [
      "C:\\Users\\dvasilyev\\AppData\\Local\\Continuum\\anaconda3\\lib\\site-packages\\sklearn\\preprocessing\\data.py:645: DataConversionWarning: Data with input dtype uint8, int64, float64 were all converted to float64 by StandardScaler.\n",
      "  return self.partial_fit(X, y)\n",
      "C:\\Users\\dvasilyev\\AppData\\Local\\Continuum\\anaconda3\\lib\\site-packages\\sklearn\\base.py:464: DataConversionWarning: Data with input dtype uint8, int64, float64 were all converted to float64 by StandardScaler.\n",
      "  return self.fit(X, **fit_params).transform(X)\n"
     ]
    }
   ],
   "source": [
    "X_test = preprocessing.StandardScaler().fit_transform(X_test)"
   ]
  },
  {
   "cell_type": "markdown",
   "metadata": {},
   "source": [
    "## Classification"
   ]
  },
  {
   "cell_type": "markdown",
   "metadata": {},
   "source": [
    "Following algorithms will be used to build a model, and final report with F1-score and Jaccard Index provided:\n",
    "- K Nearest Neighbor(KNN)\n",
    "- Decision Tree\n",
    "- Support Vector Machine\n",
    "- Logistic Regression\n"
   ]
  },
  {
   "cell_type": "code",
   "execution_count": 578,
   "metadata": {},
   "outputs": [],
   "source": [
    "from sklearn.metrics import jaccard_similarity_score\n",
    "from sklearn.metrics import f1_score\n",
    "from sklearn.metrics import log_loss\n",
    "from sklearn.metrics import accuracy_score\n",
    "from sklearn.metrics import recall_score\n",
    "import sklearn.metrics as metrics"
   ]
  },
  {
   "cell_type": "markdown",
   "metadata": {},
   "source": [
    "### Decision Tree "
   ]
  },
  {
   "cell_type": "code",
   "execution_count": 579,
   "metadata": {},
   "outputs": [
    {
     "name": "stdout",
     "output_type": "stream",
     "text": [
      "DecisionTree's Accuracy: 0.7457963768364098\n"
     ]
    }
   ],
   "source": [
    "from sklearn.tree import DecisionTreeClassifier\n",
    "\n",
    "# Train our model, make predictions and check accuracy\n",
    "Tree = DecisionTreeClassifier(criterion=\"entropy\", max_depth = 4)\n",
    "Tree.fit(X_train, y_train)\n",
    "\n",
    "predTree = Tree.predict(X_test)\n",
    "\n",
    "print(\"DecisionTree's Accuracy: {}\".format(accuracy_score(y_test, predTree)))"
   ]
  },
  {
   "cell_type": "code",
   "execution_count": 580,
   "metadata": {},
   "outputs": [
    {
     "name": "stderr",
     "output_type": "stream",
     "text": [
      "C:\\Users\\dvasilyev\\AppData\\Local\\Continuum\\anaconda3\\lib\\site-packages\\sklearn\\metrics\\classification.py:1143: UndefinedMetricWarning: F-score is ill-defined and being set to 0.0 in labels with no predicted samples.\n",
      "  'precision', 'predicted', average, warn_for)\n"
     ]
    },
    {
     "data": {
      "image/png": "[encoded data removed]",
      "text/plain": [
       "<Figure size 432x288 with 1 Axes>"
      ]
     },
     "metadata": {
      "needs_background": "light"
     },
     "output_type": "display_data"
    },
    {
     "name": "stdout",
     "output_type": "stream",
     "text": [
      "The best f1_score was with 0.744700995464284 with m=8\n"
     ]
    }
   ],
   "source": [
    "# Let's build a plot with different number of Max Depth - M\n",
    "\n",
    "Ms = 20\n",
    "\n",
    "mean_acc = np.zeros((Ms-1))\n",
    "std_acc = np.zeros((Ms-1))\n",
    "ConfustionMx = [];\n",
    "\n",
    "for m in range(1, Ms):\n",
    "    \n",
    "    #Train Model and Predict  \n",
    "    dtree = DecisionTreeClassifier(criterion=\"entropy\", max_depth = m).fit(X_train,y_train)\n",
    "    yhat=dtree.predict(X_test)\n",
    "    mean_acc[m-1] = f1_score(y_test, yhat, average='weighted')\n",
    "\n",
    "    \n",
    "    std_acc[m-1]=np.std(yhat==y_test)/np.sqrt(yhat.shape[0])\n",
    "\n",
    "plt.plot(range(1, Ms),mean_acc,'g')\n",
    "plt.fill_between(range(1, Ms),mean_acc - 1 * std_acc,mean_acc + 1 * std_acc, alpha=0.10)\n",
    "plt.legend(('Accuracy ', '+/- 3xstd'))\n",
    "plt.ylabel('Accuracy ')\n",
    "plt.xlabel('Max Depth (m)')\n",
    "plt.tight_layout()\n",
    "plt.show()\n",
    "\n",
    "dtree = DecisionTreeClassifier(criterion=\"entropy\", max_depth = mean_acc.argmax()+1).fit(X_train,y_train)\n",
    "yhat = dtree.predict(X_test)\n",
    "\n",
    "Tree_f1 = f1_score(y_test, yhat, average='weighted')\n",
    "\n",
    "print( \"The best f1_score was with {} with m={}\".format(mean_acc.max(), mean_acc.argmax()+1)) "
   ]
  },
  {
   "cell_type": "code",
   "execution_count": 581,
   "metadata": {},
   "outputs": [
    {
     "name": "stdout",
     "output_type": "stream",
     "text": [
      "F1-score was 0.7446234822821988 with m=8\n",
      "Jaccard Index: 0.766737440498613\n"
     ]
    }
   ],
   "source": [
    "print( \"F1-score was {} with m={}\".format(Tree_f1, mean_acc.argmax()+1))\n",
    "# For accuracy evaluation we will can also use Jaccard index\n",
    "print(\"Jaccard Index: {}\".format(jaccard_similarity_score(y_test, yhat)))"
   ]
  },
  {
   "cell_type": "code",
   "execution_count": 582,
   "metadata": {},
   "outputs": [
    {
     "name": "stdout",
     "output_type": "stream",
     "text": [
      "              precision    recall  f1-score   support\n",
      "\n",
      "           1       0.78      0.92      0.85     41083\n",
      "           2       0.69      0.39      0.50     17319\n",
      "\n",
      "   micro avg       0.77      0.77      0.77     58402\n",
      "   macro avg       0.73      0.66      0.67     58402\n",
      "weighted avg       0.75      0.77      0.74     58402\n",
      "\n",
      "Confusion matrix, without normalization\n",
      "[[37979  3104]\n",
      " [10519  6800]]\n"
     ]
    },
    {
     "data": {
      "image/png": "[encoded data removed]",
      "text/plain": [
       "<Figure size 432x288 with 2 Axes>"
      ]
     },
     "metadata": {
      "needs_background": "light"
     },
     "output_type": "display_data"
    }
   ],
   "source": [
    "from sklearn.metrics import classification_report, confusion_matrix\n",
    "import itertools\n",
    "\n",
    "# Let's evaluate our model and build confusion matrix\n",
    "def plot_confusion_matrix(cm, classes,\n",
    "                          normalize=False,\n",
    "                          title='Confusion matrix',\n",
    "                          cmap=plt.cm.Blues):\n",
    "    \"\"\"\n",
    "    This function prints and plots the confusion matrix.\n",
    "    Normalization can be applied by setting `normalize=True`.\n",
    "    \"\"\"\n",
    "    if normalize:\n",
    "        cm = cm.astype('float') / cm.sum(axis=1)[:, np.newaxis]\n",
    "        print(\"Normalized confusion matrix\")\n",
    "    else:\n",
    "        print('Confusion matrix, without normalization')\n",
    "\n",
    "    print(cm)\n",
    "\n",
    "    plt.imshow(cm, interpolation='nearest', cmap=cmap)\n",
    "    plt.title(title)\n",
    "    plt.colorbar()\n",
    "    tick_marks = np.arange(len(classes))\n",
    "    plt.xticks(tick_marks, classes, rotation=45)\n",
    "    plt.yticks(tick_marks, classes)\n",
    "\n",
    "    fmt = '.2f' if normalize else 'd'\n",
    "    thresh = cm.max() / 2.\n",
    "    for i, j in itertools.product(range(cm.shape[0]), range(cm.shape[1])):\n",
    "        plt.text(j, i, format(cm[i, j], fmt),\n",
    "                 horizontalalignment=\"center\",\n",
    "                 color=\"white\" if cm[i, j] > thresh else \"black\")\n",
    "\n",
    "    plt.tight_layout()\n",
    "    plt.ylabel('True label')\n",
    "    plt.xlabel('Predicted label')\n",
    "\n",
    "cnf_matrix = confusion_matrix(y_test, yhat, labels=[1, 2])\n",
    "np.set_printoptions(precision=2)\n",
    "\n",
    "print (classification_report(y_test, yhat))\n",
    "\n",
    "# Plot non-normalized confusion matrix\n",
    "plt.figure()\n",
    "plot_confusion_matrix(cnf_matrix, classes=[\"Property Damage\", \"Injury\"], normalize=False,  title='Confusion matrix')"
   ]
  },
  {
   "cell_type": "markdown",
   "metadata": {},
   "source": [
    "#### As we see from confusion matrix predictions of injuries, which is more important than prediction of collisions, are quite poor with imbalanced dataset. Let's see if other algorithms can perform better. "
   ]
  },
  {
   "cell_type": "markdown",
   "metadata": {},
   "source": [
    "### Logistic Regression"
   ]
  },
  {
   "cell_type": "code",
   "execution_count": 583,
   "metadata": {},
   "outputs": [],
   "source": [
    "from sklearn.linear_model import LogisticRegression"
   ]
  },
  {
   "cell_type": "code",
   "execution_count": 584,
   "metadata": {},
   "outputs": [],
   "source": [
    "from sklearn.model_selection import GridSearchCV"
   ]
  },
  {
   "cell_type": "code",
   "execution_count": 585,
   "metadata": {},
   "outputs": [],
   "source": [
    "parameters1= [{'C': [0.001, 0.01, 0.1, 1], 'solver': ['newton-cg', 'lbfgs', 'liblinear', 'sag']}]"
   ]
  },
  {
   "cell_type": "code",
   "execution_count": 586,
   "metadata": {},
   "outputs": [],
   "source": [
    "LR = LogisticRegression()\n",
    "\n",
    "f1 = metrics.make_scorer(f1_score, average='macro')"
   ]
  },
  {
   "cell_type": "code",
   "execution_count": 587,
   "metadata": {},
   "outputs": [],
   "source": [
    "Grid1 = GridSearchCV(LR, parameters1, cv=4, scoring=f1)"
   ]
  },
  {
   "cell_type": "code",
   "execution_count": 588,
   "metadata": {},
   "outputs": [
    {
     "name": "stderr",
     "output_type": "stream",
     "text": [
      "C:\\Users\\dvasilyev\\AppData\\Local\\Continuum\\anaconda3\\lib\\site-packages\\sklearn\\linear_model\\sag.py:334: ConvergenceWarning: The max_iter was reached which means the coef_ did not converge\n",
      "  \"the coef_ did not converge\", ConvergenceWarning)\n",
      "C:\\Users\\dvasilyev\\AppData\\Local\\Continuum\\anaconda3\\lib\\site-packages\\sklearn\\linear_model\\sag.py:334: ConvergenceWarning: The max_iter was reached which means the coef_ did not converge\n",
      "  \"the coef_ did not converge\", ConvergenceWarning)\n",
      "C:\\Users\\dvasilyev\\AppData\\Local\\Continuum\\anaconda3\\lib\\site-packages\\sklearn\\linear_model\\sag.py:334: ConvergenceWarning: The max_iter was reached which means the coef_ did not converge\n",
      "  \"the coef_ did not converge\", ConvergenceWarning)\n",
      "C:\\Users\\dvasilyev\\AppData\\Local\\Continuum\\anaconda3\\lib\\site-packages\\sklearn\\linear_model\\sag.py:334: ConvergenceWarning: The max_iter was reached which means the coef_ did not converge\n",
      "  \"the coef_ did not converge\", ConvergenceWarning)\n",
      "C:\\Users\\dvasilyev\\AppData\\Local\\Continuum\\anaconda3\\lib\\site-packages\\sklearn\\linear_model\\sag.py:334: ConvergenceWarning: The max_iter was reached which means the coef_ did not converge\n",
      "  \"the coef_ did not converge\", ConvergenceWarning)\n",
      "C:\\Users\\dvasilyev\\AppData\\Local\\Continuum\\anaconda3\\lib\\site-packages\\sklearn\\linear_model\\sag.py:334: ConvergenceWarning: The max_iter was reached which means the coef_ did not converge\n",
      "  \"the coef_ did not converge\", ConvergenceWarning)\n",
      "C:\\Users\\dvasilyev\\AppData\\Local\\Continuum\\anaconda3\\lib\\site-packages\\sklearn\\linear_model\\sag.py:334: ConvergenceWarning: The max_iter was reached which means the coef_ did not converge\n",
      "  \"the coef_ did not converge\", ConvergenceWarning)\n",
      "C:\\Users\\dvasilyev\\AppData\\Local\\Continuum\\anaconda3\\lib\\site-packages\\sklearn\\linear_model\\sag.py:334: ConvergenceWarning: The max_iter was reached which means the coef_ did not converge\n",
      "  \"the coef_ did not converge\", ConvergenceWarning)\n",
      "C:\\Users\\dvasilyev\\AppData\\Local\\Continuum\\anaconda3\\lib\\site-packages\\sklearn\\linear_model\\sag.py:334: ConvergenceWarning: The max_iter was reached which means the coef_ did not converge\n",
      "  \"the coef_ did not converge\", ConvergenceWarning)\n",
      "C:\\Users\\dvasilyev\\AppData\\Local\\Continuum\\anaconda3\\lib\\site-packages\\sklearn\\linear_model\\sag.py:334: ConvergenceWarning: The max_iter was reached which means the coef_ did not converge\n",
      "  \"the coef_ did not converge\", ConvergenceWarning)\n",
      "C:\\Users\\dvasilyev\\AppData\\Local\\Continuum\\anaconda3\\lib\\site-packages\\sklearn\\linear_model\\sag.py:334: ConvergenceWarning: The max_iter was reached which means the coef_ did not converge\n",
      "  \"the coef_ did not converge\", ConvergenceWarning)\n",
      "C:\\Users\\dvasilyev\\AppData\\Local\\Continuum\\anaconda3\\lib\\site-packages\\sklearn\\linear_model\\sag.py:334: ConvergenceWarning: The max_iter was reached which means the coef_ did not converge\n",
      "  \"the coef_ did not converge\", ConvergenceWarning)\n"
     ]
    },
    {
     "data": {
      "text/plain": [
       "GridSearchCV(cv=4, error_score='raise-deprecating',\n",
       "       estimator=LogisticRegression(C=1.0, class_weight=None, dual=False, fit_intercept=True,\n",
       "          intercept_scaling=1, max_iter=100, multi_class='warn',\n",
       "          n_jobs=None, penalty='l2', random_state=None, solver='warn',\n",
       "          tol=0.0001, verbose=0, warm_start=False),\n",
       "       fit_params=None, iid='warn', n_jobs=None,\n",
       "       param_grid=[{'C': [0.001, 0.01, 0.1, 1], 'solver': ['newton-cg', 'lbfgs', 'liblinear', 'sag']}],\n",
       "       pre_dispatch='2*n_jobs', refit=True, return_train_score='warn',\n",
       "       scoring=make_scorer(f1_score, average=macro), verbose=0)"
      ]
     },
     "execution_count": 588,
     "metadata": {},
     "output_type": "execute_result"
    }
   ],
   "source": [
    "Grid1.fit(X_train,y_train)"
   ]
  },
  {
   "cell_type": "code",
   "execution_count": 589,
   "metadata": {},
   "outputs": [
    {
     "data": {
      "text/plain": [
       "LogisticRegression(C=1, class_weight=None, dual=False, fit_intercept=True,\n",
       "          intercept_scaling=1, max_iter=100, multi_class='warn',\n",
       "          n_jobs=None, penalty='l2', random_state=None, solver='lbfgs',\n",
       "          tol=0.0001, verbose=0, warm_start=False)"
      ]
     },
     "execution_count": 589,
     "metadata": {},
     "output_type": "execute_result"
    }
   ],
   "source": [
    "BestRR=Grid1.best_estimator_\n",
    "BestRR"
   ]
  },
  {
   "cell_type": "code",
   "execution_count": 590,
   "metadata": {},
   "outputs": [
    {
     "data": {
      "text/plain": [
       "0.7652648881887607"
      ]
     },
     "execution_count": 590,
     "metadata": {},
     "output_type": "execute_result"
    }
   ],
   "source": [
    "BestRR.score(X_test, y_test)"
   ]
  },
  {
   "cell_type": "code",
   "execution_count": 593,
   "metadata": {},
   "outputs": [
    {
     "data": {
      "text/plain": [
       "array([1, 1, 1, 2, 1], dtype=int64)"
      ]
     },
     "execution_count": 593,
     "metadata": {},
     "output_type": "execute_result"
    }
   ],
   "source": [
    "# Initialize and train Logistic Regression model\n",
    "LR = LogisticRegression(C=1, solver='lbfgs').fit(X_train,y_train)\n",
    "\n",
    "# Predict values\n",
    "predLR = LR.predict(X_test)\n",
    "\n",
    "# Return estimates for all classes ordered by the label of classes\n",
    "probLR = LR.predict_proba(X_test)\n",
    "\n",
    "predLR[0:5]"
   ]
  },
  {
   "cell_type": "code",
   "execution_count": 594,
   "metadata": {},
   "outputs": [
    {
     "name": "stdout",
     "output_type": "stream",
     "text": [
      "              precision    recall  f1-score   support\n",
      "\n",
      "           1       0.78      0.93      0.85     41083\n",
      "           2       0.69      0.37      0.48     17319\n",
      "\n",
      "   micro avg       0.77      0.77      0.77     58402\n",
      "   macro avg       0.74      0.65      0.67     58402\n",
      "weighted avg       0.75      0.77      0.74     58402\n",
      "\n",
      "Confusion matrix, without normalization\n",
      "[[38253  2830]\n",
      " [10879  6440]]\n"
     ]
    },
    {
     "data": {
      "image/png": "[encoded data removed]",
      "text/plain": [
       "<Figure size 432x288 with 2 Axes>"
      ]
     },
     "metadata": {
      "needs_background": "light"
     },
     "output_type": "display_data"
    }
   ],
   "source": [
    "cnf_matrix = confusion_matrix(y_test, predLR, labels=[1, 2])\n",
    "np.set_printoptions(precision=2)\n",
    "\n",
    "print (classification_report(y_test, predLR))\n",
    "\n",
    "# Plot non-normalized confusion matrix\n",
    "plt.figure()\n",
    "plot_confusion_matrix(cnf_matrix, classes=[\"Property Damage\", \"Injury\"], normalize=False,  title='Confusion matrix')"
   ]
  },
  {
   "cell_type": "code",
   "execution_count": 595,
   "metadata": {},
   "outputs": [
    {
     "name": "stdout",
     "output_type": "stream",
     "text": [
      "Jaccard Index: 0.7652648881887607\n",
      "F1-Score: 0.7402070354943879\n"
     ]
    }
   ],
   "source": [
    "# For accuracy evaluation we will use Jaccard index\n",
    "print(\"Jaccard Index: {}\".format(jaccard_similarity_score(y_test, predLR)))\n",
    "print(\"F1-Score: {}\".format(metrics.f1_score(y_test, predLR, average='weighted')))"
   ]
  },
  {
   "cell_type": "markdown",
   "metadata": {},
   "source": [
    "#### Little better, however dataset has to be balanced in order to increase recall for injuries."
   ]
  },
  {
   "cell_type": "markdown",
   "metadata": {},
   "source": [
    "## Undersampling majority class"
   ]
  },
  {
   "cell_type": "markdown",
   "metadata": {},
   "source": [
    "#### Before we proceed with balancing let's review our target classes "
   ]
  },
  {
   "cell_type": "code",
   "execution_count": 596,
   "metadata": {},
   "outputs": [
    {
     "data": {
      "text/plain": [
       "Text(0.5, 1.0, 'Number of Collisions Per Severity Code')"
      ]
     },
     "execution_count": 596,
     "metadata": {},
     "output_type": "execute_result"
    },
    {
     "data": {
      "image/png": "[encoded data removed]",
      "text/plain": [
       "<Figure size 432x288 with 1 Axes>"
      ]
     },
     "metadata": {
      "needs_background": "light"
     },
     "output_type": "display_data"
    }
   ],
   "source": [
    "ax = df['SEVERITYCODE'].value_counts().plot(kind = 'bar')\n",
    "\n",
    "ax.set_xlabel('Severity Code')\n",
    "ax.set_ylabel('Number of Collisions')\n",
    "ax.set_title('Number of Collisions Per Severity Code')"
   ]
  },
  {
   "cell_type": "code",
   "execution_count": 597,
   "metadata": {},
   "outputs": [],
   "source": [
    "XX = pd.DataFrame(X_train).reset_index(drop=True)"
   ]
  },
  {
   "cell_type": "code",
   "execution_count": 598,
   "metadata": {},
   "outputs": [],
   "source": [
    "yy = pd.DataFrame(y_train).reset_index(drop=True)"
   ]
  },
  {
   "cell_type": "code",
   "execution_count": 599,
   "metadata": {},
   "outputs": [],
   "source": [
    "X = pd.concat([XX, yy], axis=1)"
   ]
  },
  {
   "cell_type": "code",
   "execution_count": 600,
   "metadata": {},
   "outputs": [],
   "source": [
    "damage = X[X.SEVERITYCODE == 1]\n",
    "injury = X[X.SEVERITYCODE == 2]\n",
    "\n",
    "unsamples = round(len(injury))"
   ]
  },
  {
   "cell_type": "code",
   "execution_count": 601,
   "metadata": {},
   "outputs": [],
   "source": [
    "from sklearn.utils import resample\n",
    "damage_downsampled = resample(damage,\n",
    "                                replace = False, # sample without replacement\n",
    "                                n_samples = unsamples, # match minority n\n",
    "                                random_state = 27)"
   ]
  },
  {
   "cell_type": "code",
   "execution_count": 602,
   "metadata": {},
   "outputs": [],
   "source": [
    "downsampled = pd.concat([damage_downsampled, injury])"
   ]
  },
  {
   "cell_type": "code",
   "execution_count": 603,
   "metadata": {},
   "outputs": [
    {
     "data": {
      "image/png": "[encoded data removed]",
      "text/plain": [
       "<Figure size 432x288 with 1 Axes>"
      ]
     },
     "metadata": {
      "needs_background": "light"
     },
     "output_type": "display_data"
    }
   ],
   "source": [
    "ax = downsampled['SEVERITYCODE'].value_counts().plot(kind = 'bar')\n",
    "\n",
    "ax.set_xlabel('Severity Code')\n",
    "ax.set_ylabel('Number of Collisions')\n",
    "ax.set_title('Number of Collisions Per Severity Code after Undersampling');"
   ]
  },
  {
   "cell_type": "code",
   "execution_count": 604,
   "metadata": {},
   "outputs": [],
   "source": [
    "y_train_ds = downsampled.SEVERITYCODE\n",
    "X_train_ds = downsampled.drop('SEVERITYCODE', axis=1)"
   ]
  },
  {
   "cell_type": "code",
   "execution_count": 605,
   "metadata": {},
   "outputs": [],
   "source": [
    "undersampled = LogisticRegression(C=0.01, solver='liblinear').fit(X_train_ds,y_train_ds)"
   ]
  },
  {
   "cell_type": "code",
   "execution_count": 606,
   "metadata": {},
   "outputs": [],
   "source": [
    "undersampled_pred = undersampled.predict(X_test)"
   ]
  },
  {
   "cell_type": "code",
   "execution_count": 607,
   "metadata": {},
   "outputs": [
    {
     "data": {
      "text/plain": [
       "0.718163401418064"
      ]
     },
     "execution_count": 607,
     "metadata": {},
     "output_type": "execute_result"
    }
   ],
   "source": [
    "f1_score(y_test, undersampled_pred, average='weighted')"
   ]
  },
  {
   "cell_type": "code",
   "execution_count": 608,
   "metadata": {},
   "outputs": [
    {
     "data": {
      "text/plain": [
       "0.7064312865997739"
      ]
     },
     "execution_count": 608,
     "metadata": {},
     "output_type": "execute_result"
    }
   ],
   "source": [
    "jaccard_similarity_score(y_test, undersampled_pred)"
   ]
  },
  {
   "cell_type": "code",
   "execution_count": 609,
   "metadata": {},
   "outputs": [
    {
     "name": "stdout",
     "output_type": "stream",
     "text": [
      "              precision    recall  f1-score   support\n",
      "\n",
      "           1       0.86      0.69      0.77     41083\n",
      "           2       0.50      0.74      0.60     17319\n",
      "\n",
      "   micro avg       0.71      0.71      0.71     58402\n",
      "   macro avg       0.68      0.72      0.68     58402\n",
      "weighted avg       0.76      0.71      0.72     58402\n",
      "\n",
      "Confusion matrix, without normalization\n",
      "[[28490 12593]\n",
      " [ 4552 12767]]\n"
     ]
    },
    {
     "data": {
      "image/png": "[encoded data removed]",
      "text/plain": [
       "<Figure size 432x288 with 2 Axes>"
      ]
     },
     "metadata": {
      "needs_background": "light"
     },
     "output_type": "display_data"
    }
   ],
   "source": [
    "cnf_matrix = confusion_matrix(y_test, undersampled_pred, labels=[1, 2])\n",
    "np.set_printoptions(precision=2)\n",
    "\n",
    "print (classification_report(y_test, undersampled_pred))\n",
    "\n",
    "# Plot non-normalized confusion matrix\n",
    "plt.figure()\n",
    "plot_confusion_matrix(cnf_matrix, classes=[\"Property Damage\", \"Injury\"], normalize=False,  title='Confusion matrix')"
   ]
  },
  {
   "cell_type": "code",
   "execution_count": 627,
   "metadata": {},
   "outputs": [
    {
     "data": {
      "image/png": "[encoded data removed]",
      "text/plain": [
       "<Figure size 1728x1440 with 4 Axes>"
      ]
     },
     "metadata": {
      "needs_background": "light"
     },
     "output_type": "display_data"
    }
   ],
   "source": [
    "f, (ax1, ax2) = plt.subplots(2, 1, figsize=(24,20))\n",
    "\n",
    "# Imbalanced DataFrame\n",
    "corr = X.corr()\n",
    "sns.heatmap(corr, annot_kws={'size':20}, ax=ax1)\n",
    "ax1.set_title(\"Imbalanced Correlation Matrix \\n (Biased)\", fontsize=14)\n",
    "\n",
    "# Balanced DataFrame\n",
    "bal_corr = downsampled.corr()\n",
    "sns.heatmap(bal_corr, annot_kws={'size':20}, ax=ax2)\n",
    "ax2.set_title('Balanced Correlation Matrix', fontsize=14)\n",
    "plt.show()"
   ]
  },
  {
   "cell_type": "code",
   "execution_count": 628,
   "metadata": {},
   "outputs": [
    {
     "data": {
      "text/plain": [
       "0               1.780899e-01\n",
       "1               2.207475e-01\n",
       "2               1.899975e-01\n",
       "3              -5.802356e-02\n",
       "4               4.899572e-02\n",
       "5               4.891348e-02\n",
       "6               1.807506e-01\n",
       "7               4.262987e-02\n",
       "8              -1.310587e-01\n",
       "9               4.242867e-02\n",
       "10              2.668584e-01\n",
       "11              2.341086e-01\n",
       "12             -3.221893e-02\n",
       "13             -2.083751e-01\n",
       "14              2.124088e-01\n",
       "15              1.072930e-01\n",
       "16              1.886130e-01\n",
       "17              2.789140e-02\n",
       "18              5.809502e-02\n",
       "19             -3.703585e-02\n",
       "20             -3.687124e-01\n",
       "21              2.145854e-01\n",
       "22              1.381912e-01\n",
       "23             -2.317381e-02\n",
       "24             -1.337944e-01\n",
       "25             -4.643861e-03\n",
       "26              2.158090e-01\n",
       "27              4.809908e-04\n",
       "28              2.087785e-02\n",
       "29             -1.847708e-01\n",
       "                    ...     \n",
       "32              1.251692e-16\n",
       "33              6.645878e-02\n",
       "34              2.945563e-03\n",
       "35             -2.670692e-02\n",
       "36              1.031609e-02\n",
       "37              6.058381e-03\n",
       "38              4.528391e-02\n",
       "39              2.212303e-03\n",
       "40              1.079705e-03\n",
       "41             -1.874944e-02\n",
       "42             -1.838098e-01\n",
       "43              7.257276e-02\n",
       "44             -1.430585e-02\n",
       "45              1.277430e-03\n",
       "46             -2.403040e-03\n",
       "47              1.199966e-03\n",
       "48             -2.128712e-02\n",
       "49             -5.189739e-03\n",
       "50             -1.863427e-01\n",
       "51              4.496643e-02\n",
       "52             -1.489834e-02\n",
       "53             -1.134231e-02\n",
       "54             -3.026188e-03\n",
       "55             -7.821432e-03\n",
       "56              1.174447e-02\n",
       "57              9.714729e-02\n",
       "58              1.381465e-02\n",
       "59             -8.346830e-03\n",
       "60             -1.772315e-01\n",
       "SEVERITYCODE    1.000000e+00\n",
       "Name: SEVERITYCODE, Length: 62, dtype: float64"
      ]
     },
     "execution_count": 628,
     "metadata": {},
     "output_type": "execute_result"
    }
   ],
   "source": [
    "bal_corr.SEVERITYCODE"
   ]
  },
  {
   "cell_type": "markdown",
   "metadata": {},
   "source": [
    "## Oversampling minority Class"
   ]
  },
  {
   "cell_type": "code",
   "execution_count": 610,
   "metadata": {},
   "outputs": [],
   "source": [
    "upsamples = round(len(damage) * 0.7)"
   ]
  },
  {
   "cell_type": "code",
   "execution_count": 611,
   "metadata": {},
   "outputs": [],
   "source": [
    "injury_upsampled = resample(injury, replace=True, n_samples=upsamples, random_state=27)"
   ]
  },
  {
   "cell_type": "code",
   "execution_count": 612,
   "metadata": {},
   "outputs": [],
   "source": [
    "upsampled = pd.concat([damage, injury_upsampled])"
   ]
  },
  {
   "cell_type": "code",
   "execution_count": 613,
   "metadata": {},
   "outputs": [
    {
     "data": {
      "image/png": "[encoded data removed]",
      "text/plain": [
       "<Figure size 432x288 with 1 Axes>"
      ]
     },
     "metadata": {
      "needs_background": "light"
     },
     "output_type": "display_data"
    }
   ],
   "source": [
    "ax = upsampled['SEVERITYCODE'].value_counts().plot(kind = 'bar')\n",
    "\n",
    "ax.set_xlabel('Severity Code')\n",
    "ax.set_ylabel('Number of Collisions')\n",
    "ax.set_title('Number of Collisions Per Severity Code after Oversampling');"
   ]
  },
  {
   "cell_type": "code",
   "execution_count": 614,
   "metadata": {},
   "outputs": [],
   "source": [
    "y_train_up = upsampled.SEVERITYCODE\n",
    "X_train_up = upsampled.drop('SEVERITYCODE', axis=1)"
   ]
  },
  {
   "cell_type": "code",
   "execution_count": 615,
   "metadata": {},
   "outputs": [],
   "source": [
    "upsampledLR = LogisticRegression(C=0.001, solver='liblinear').fit(X_train_up,y_train_up)\n",
    "\n",
    "upsampled_pred = upsampledLR.predict(X_test)"
   ]
  },
  {
   "cell_type": "code",
   "execution_count": 616,
   "metadata": {},
   "outputs": [
    {
     "data": {
      "text/plain": [
       "0.7435635283309283"
      ]
     },
     "execution_count": 616,
     "metadata": {},
     "output_type": "execute_result"
    }
   ],
   "source": [
    "f1_score(y_test, upsampled_pred, average = 'weighted')"
   ]
  },
  {
   "cell_type": "code",
   "execution_count": 617,
   "metadata": {},
   "outputs": [
    {
     "data": {
      "text/plain": [
       "0.7834627461480418"
      ]
     },
     "execution_count": 617,
     "metadata": {},
     "output_type": "execute_result"
    }
   ],
   "source": [
    "recall_score(y_test, upsampled_pred)"
   ]
  },
  {
   "cell_type": "code",
   "execution_count": 618,
   "metadata": {},
   "outputs": [
    {
     "data": {
      "text/plain": [
       "0.7388103147152495"
      ]
     },
     "execution_count": 618,
     "metadata": {},
     "output_type": "execute_result"
    }
   ],
   "source": [
    "jaccard_similarity_score(y_test, upsampled_pred)"
   ]
  },
  {
   "cell_type": "code",
   "execution_count": 619,
   "metadata": {},
   "outputs": [
    {
     "name": "stdout",
     "output_type": "stream",
     "text": [
      "              precision    recall  f1-score   support\n",
      "\n",
      "           1       0.84      0.78      0.81     41083\n",
      "           2       0.55      0.63      0.59     17319\n",
      "\n",
      "   micro avg       0.74      0.74      0.74     58402\n",
      "   macro avg       0.69      0.71      0.70     58402\n",
      "weighted avg       0.75      0.74      0.74     58402\n",
      "\n",
      "Confusion matrix, without normalization\n",
      "[[32187  8896]\n",
      " [ 6358 10961]]\n"
     ]
    },
    {
     "data": {
      "image/png": "[encoded data removed]",
      "text/plain": [
       "<Figure size 432x288 with 2 Axes>"
      ]
     },
     "metadata": {
      "needs_background": "light"
     },
     "output_type": "display_data"
    }
   ],
   "source": [
    "cnf_matrix = confusion_matrix(y_test, upsampled_pred, labels=[1, 2])\n",
    "np.set_printoptions(precision=2)\n",
    "\n",
    "print (classification_report(y_test, upsampled_pred))\n",
    "\n",
    "# Plot non-normalized confusion matrix\n",
    "plt.figure()\n",
    "plot_confusion_matrix(cnf_matrix, classes=[\"Property Damage\", \"Injury\"], normalize=False,  title='Confusion matrix')"
   ]
  },
  {
   "cell_type": "markdown",
   "metadata": {},
   "source": [
    "## Synthetic Minority Oversampling Technique"
   ]
  },
  {
   "cell_type": "code",
   "execution_count": 620,
   "metadata": {},
   "outputs": [],
   "source": [
    "from imblearn.over_sampling import SMOTE\n",
    "from collections import Counter"
   ]
  },
  {
   "cell_type": "code",
   "execution_count": 621,
   "metadata": {},
   "outputs": [],
   "source": [
    "k = 7\n",
    "\n",
    "sm = SMOTE(sampling_strategy=0.7, k_neighbors=k, random_state=4, n_jobs = 7) "
   ]
  },
  {
   "cell_type": "code",
   "execution_count": 622,
   "metadata": {},
   "outputs": [
    {
     "name": "stderr",
     "output_type": "stream",
     "text": [
      "C:\\Users\\dvasilyev\\AppData\\Local\\Continuum\\anaconda3\\lib\\site-packages\\sklearn\\preprocessing\\data.py:645: DataConversionWarning: Data with input dtype uint8, int64, float64 were all converted to float64 by StandardScaler.\n",
      "  return self.partial_fit(X, y)\n",
      "C:\\Users\\dvasilyev\\AppData\\Local\\Continuum\\anaconda3\\lib\\site-packages\\ipykernel_launcher.py:4: DataConversionWarning: Data with input dtype uint8, int64, float64 were all converted to float64 by StandardScaler.\n",
      "  after removing the cwd from sys.path.\n",
      "C:\\Users\\dvasilyev\\AppData\\Local\\Continuum\\anaconda3\\lib\\site-packages\\sklearn\\preprocessing\\data.py:645: DataConversionWarning: Data with input dtype uint8, int64, float64 were all converted to float64 by StandardScaler.\n",
      "  return self.partial_fit(X, y)\n",
      "C:\\Users\\dvasilyev\\AppData\\Local\\Continuum\\anaconda3\\lib\\site-packages\\ipykernel_launcher.py:5: DataConversionWarning: Data with input dtype uint8, int64, float64 were all converted to float64 by StandardScaler.\n",
      "  \"\"\"\n"
     ]
    }
   ],
   "source": [
    "X = Feature\n",
    "y = df['SEVERITYCODE']\n",
    "X_train, X_test, y_train, y_test = train_test_split(X, y, test_size=0.3, random_state=4)\n",
    "X_train = preprocessing.StandardScaler().fit(X_train).transform(X_train)\n",
    "X_test = preprocessing.StandardScaler().fit(X_test).transform(X_test)\n",
    "\n",
    "X_train_sm, y_train_sm = sm.fit_resample(X_train, y_train)\n"
   ]
  },
  {
   "cell_type": "code",
   "execution_count": 623,
   "metadata": {},
   "outputs": [],
   "source": [
    "smoteLR = LogisticRegression(C=0.01, solver='liblinear').fit(X_train_sm,y_train_sm)\n",
    "\n",
    "smote_pred = smoteLR.predict(X_test)"
   ]
  },
  {
   "cell_type": "code",
   "execution_count": 624,
   "metadata": {},
   "outputs": [
    {
     "data": {
      "text/plain": [
       "0.7433612146507639"
      ]
     },
     "execution_count": 624,
     "metadata": {},
     "output_type": "execute_result"
    }
   ],
   "source": [
    "f1_score(y_test, smote_pred, average='weighted')"
   ]
  },
  {
   "cell_type": "code",
   "execution_count": 625,
   "metadata": {},
   "outputs": [
    {
     "data": {
      "text/plain": [
       "0.7857021152301439"
      ]
     },
     "execution_count": 625,
     "metadata": {},
     "output_type": "execute_result"
    }
   ],
   "source": [
    "recall_score(y_test, smote_pred)"
   ]
  },
  {
   "cell_type": "code",
   "execution_count": 626,
   "metadata": {},
   "outputs": [
    {
     "name": "stdout",
     "output_type": "stream",
     "text": [
      "              precision    recall  f1-score   support\n",
      "\n",
      "           1       0.83      0.79      0.81     41083\n",
      "           2       0.55      0.63      0.59     17319\n",
      "\n",
      "   micro avg       0.74      0.74      0.74     58402\n",
      "   macro avg       0.69      0.71      0.70     58402\n",
      "weighted avg       0.75      0.74      0.74     58402\n",
      "\n",
      "Confusion matrix, without normalization\n",
      "[[32279  8804]\n",
      " [ 6445 10874]]\n"
     ]
    },
    {
     "data": {
      "image/png": "[encoded data removed]",
      "text/plain": [
       "<Figure size 432x288 with 2 Axes>"
      ]
     },
     "metadata": {
      "needs_background": "light"
     },
     "output_type": "display_data"
    }
   ],
   "source": [
    "cnf_matrix = confusion_matrix(y_test, smote_pred, labels=[1, 2])\n",
    "np.set_printoptions(precision=2)\n",
    "\n",
    "print (classification_report(y_test, smote_pred))\n",
    "\n",
    "# Plot non-normalized confusion matrix\n",
    "plt.figure()\n",
    "plot_confusion_matrix(cnf_matrix, classes=[\"Property Damage\", \"Injury\"], normalize=False,  title='Confusion matrix')"
   ]
  },
  {
   "cell_type": "code",
   "execution_count": null,
   "metadata": {},
   "outputs": [],
   "source": []
  },
  {
   "cell_type": "code",
   "execution_count": null,
   "metadata": {},
   "outputs": [],
   "source": []
  }
 ],
 "metadata": {
  "kernelspec": {
   "display_name": "Python 3",
   "language": "python",
   "name": "python3"
  },
  "language_info": {
   "codemirror_mode": {
    "name": "ipython",
    "version": 3
   },
   "file_extension": ".py",
   "mimetype": "text/x-python",
   "name": "python",
   "nbconvert_exporter": "python",
   "pygments_lexer": "ipython3",
   "version": "3.7.3"
  }
 },
 "nbformat": 4,
 "nbformat_minor": 2
}
